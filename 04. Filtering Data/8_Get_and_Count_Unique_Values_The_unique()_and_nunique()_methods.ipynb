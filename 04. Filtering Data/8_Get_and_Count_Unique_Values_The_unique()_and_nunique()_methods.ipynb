{
 "cells": [
  {
   "cell_type": "code",
   "execution_count": 1,
   "id": "661e04df-cdf4-4f2e-bae0-d4b28ce5a006",
   "metadata": {},
   "outputs": [],
   "source": [
    "import pandas as pd"
   ]
  },
  {
   "cell_type": "code",
   "execution_count": 2,
   "id": "3558792b-11cd-475a-80e9-0d82df69418e",
   "metadata": {},
   "outputs": [],
   "source": [
    "df_laptops = pd.read_csv('laptop_price.csv')"
   ]
  },
  {
   "cell_type": "code",
   "execution_count": 3,
   "id": "416f2f3b-b67c-4dc6-886a-2d14ba40023a",
   "metadata": {},
   "outputs": [
    {
     "data": {
      "text/html": [
       "<div>\n",
       "<style scoped>\n",
       "    .dataframe tbody tr th:only-of-type {\n",
       "        vertical-align: middle;\n",
       "    }\n",
       "\n",
       "    .dataframe tbody tr th {\n",
       "        vertical-align: top;\n",
       "    }\n",
       "\n",
       "    .dataframe thead th {\n",
       "        text-align: right;\n",
       "    }\n",
       "</style>\n",
       "<table border=\"1\" class=\"dataframe\">\n",
       "  <thead>\n",
       "    <tr style=\"text-align: right;\">\n",
       "      <th></th>\n",
       "      <th>laptop_ID</th>\n",
       "      <th>Company</th>\n",
       "      <th>Product</th>\n",
       "      <th>TypeName</th>\n",
       "      <th>Inches</th>\n",
       "      <th>ScreenResolution</th>\n",
       "      <th>Cpu</th>\n",
       "      <th>Ram</th>\n",
       "      <th>Memory</th>\n",
       "      <th>Gpu</th>\n",
       "      <th>OpSys</th>\n",
       "      <th>Weight</th>\n",
       "      <th>Price_euros</th>\n",
       "    </tr>\n",
       "  </thead>\n",
       "  <tbody>\n",
       "    <tr>\n",
       "      <th>0</th>\n",
       "      <td>1</td>\n",
       "      <td>Apple</td>\n",
       "      <td>MacBook Pro</td>\n",
       "      <td>Ultrabook</td>\n",
       "      <td>13.3</td>\n",
       "      <td>IPS Panel Retina Display 2560x1600</td>\n",
       "      <td>Intel Core i5 2.3GHz</td>\n",
       "      <td>8GB</td>\n",
       "      <td>128GB SSD</td>\n",
       "      <td>Intel Iris Plus Graphics 640</td>\n",
       "      <td>macOS</td>\n",
       "      <td>1.37kg</td>\n",
       "      <td>1339.69</td>\n",
       "    </tr>\n",
       "    <tr>\n",
       "      <th>1</th>\n",
       "      <td>2</td>\n",
       "      <td>Apple</td>\n",
       "      <td>Macbook Air</td>\n",
       "      <td>Ultrabook</td>\n",
       "      <td>13.3</td>\n",
       "      <td>1440x900</td>\n",
       "      <td>Intel Core i5 1.8GHz</td>\n",
       "      <td>8GB</td>\n",
       "      <td>128GB Flash Storage</td>\n",
       "      <td>Intel HD Graphics 6000</td>\n",
       "      <td>macOS</td>\n",
       "      <td>1.34kg</td>\n",
       "      <td>898.94</td>\n",
       "    </tr>\n",
       "    <tr>\n",
       "      <th>2</th>\n",
       "      <td>3</td>\n",
       "      <td>HP</td>\n",
       "      <td>250 G6</td>\n",
       "      <td>Notebook</td>\n",
       "      <td>15.6</td>\n",
       "      <td>Full HD 1920x1080</td>\n",
       "      <td>Intel Core i5 7200U 2.5GHz</td>\n",
       "      <td>8GB</td>\n",
       "      <td>256GB SSD</td>\n",
       "      <td>Intel HD Graphics 620</td>\n",
       "      <td>No OS</td>\n",
       "      <td>1.86kg</td>\n",
       "      <td>575.00</td>\n",
       "    </tr>\n",
       "  </tbody>\n",
       "</table>\n",
       "</div>"
      ],
      "text/plain": [
       "   laptop_ID Company      Product   TypeName  Inches  \\\n",
       "0          1   Apple  MacBook Pro  Ultrabook    13.3   \n",
       "1          2   Apple  Macbook Air  Ultrabook    13.3   \n",
       "2          3      HP       250 G6   Notebook    15.6   \n",
       "\n",
       "                     ScreenResolution                         Cpu  Ram  \\\n",
       "0  IPS Panel Retina Display 2560x1600        Intel Core i5 2.3GHz  8GB   \n",
       "1                            1440x900        Intel Core i5 1.8GHz  8GB   \n",
       "2                   Full HD 1920x1080  Intel Core i5 7200U 2.5GHz  8GB   \n",
       "\n",
       "                Memory                           Gpu  OpSys  Weight  \\\n",
       "0            128GB SSD  Intel Iris Plus Graphics 640  macOS  1.37kg   \n",
       "1  128GB Flash Storage        Intel HD Graphics 6000  macOS  1.34kg   \n",
       "2            256GB SSD         Intel HD Graphics 620  No OS  1.86kg   \n",
       "\n",
       "   Price_euros  \n",
       "0      1339.69  \n",
       "1       898.94  \n",
       "2       575.00  "
      ]
     },
     "execution_count": 3,
     "metadata": {},
     "output_type": "execute_result"
    }
   ],
   "source": [
    "df_laptops.head(3)"
   ]
  },
  {
   "cell_type": "markdown",
   "id": "c1c2f1f4-1411-4e4d-8476-7f5aca2dee48",
   "metadata": {},
   "source": [
    "## 1. Unique\n",
    "\n",
    "This method returns unique values of Series object. (Uniques are returned in order of appearance.)"
   ]
  },
  {
   "cell_type": "code",
   "execution_count": 4,
   "id": "949c246d-f116-4ff3-831d-87ebc00f17b8",
   "metadata": {},
   "outputs": [
    {
     "data": {
      "text/plain": [
       "array(['Apple', 'HP', 'Acer', 'Asus', 'Dell', 'Lenovo', 'Chuwi', 'MSI',\n",
       "       'Microsoft', 'Toshiba', 'Huawei', 'Xiaomi', 'Vero', 'Razer',\n",
       "       'Mediacom', 'Samsung', 'Google', 'Fujitsu', 'LG'], dtype=object)"
      ]
     },
     "execution_count": 4,
     "metadata": {},
     "output_type": "execute_result"
    }
   ],
   "source": [
    "# getting unique elements in the \"Company\" column\n",
    "df_laptops['Company'].unique()"
   ]
  },
  {
   "cell_type": "code",
   "execution_count": 5,
   "id": "b892e016-e0be-45cd-b444-6ad331ca65be",
   "metadata": {},
   "outputs": [],
   "source": [
    "# And here we get an array, and this array contains unique elements inside the Company column"
   ]
  },
  {
   "cell_type": "code",
   "execution_count": 6,
   "id": "e6fd267f-aad4-4f45-960d-3975b15a751d",
   "metadata": {},
   "outputs": [
    {
     "data": {
      "text/plain": [
       "array([13.3, 15.6, 15.4, 14. , 12. , 11.6, 17.3, 10.1, 13.5, 12.5, 13. ,\n",
       "       18.4, 13.9, 12.3, 17. , 15. , 14.1, 11.3])"
      ]
     },
     "execution_count": 6,
     "metadata": {},
     "output_type": "execute_result"
    }
   ],
   "source": [
    "# getting unique elements in the \"Inches\" column\n",
    "df_laptops['Inches'].unique()"
   ]
  },
  {
   "cell_type": "code",
   "execution_count": 13,
   "id": "b7ef0567-53cf-421f-9ad0-500062a0d0d3",
   "metadata": {},
   "outputs": [],
   "source": [
    "# And here we get an array, and the array has all the screen sizes: 13.3\", 15.6\", 15.4\", ..."
   ]
  },
  {
   "cell_type": "code",
   "execution_count": 7,
   "id": "0af0745c-e8c2-4d98-b2dc-dfbfd2074f9c",
   "metadata": {},
   "outputs": [
    {
     "data": {
      "text/plain": [
       "18"
      ]
     },
     "execution_count": 7,
     "metadata": {},
     "output_type": "execute_result"
    }
   ],
   "source": [
    "# now we can get how many unique elements are in a column\n",
    "\n",
    "# getting the length of unique elements\n",
    "len(df_laptops['Inches'].unique())"
   ]
  },
  {
   "cell_type": "code",
   "execution_count": 14,
   "id": "155422f8-e209-4774-8967-5b5730aae7da",
   "metadata": {},
   "outputs": [],
   "source": [
    "# So here we have 18 unique values inside the Inches column (different types of screen sizes)"
   ]
  },
  {
   "cell_type": "code",
   "execution_count": 8,
   "id": "1e47dc22-b2d2-48c6-b0d4-2f302bfadd25",
   "metadata": {},
   "outputs": [
    {
     "data": {
      "text/plain": [
       "19"
      ]
     },
     "execution_count": 8,
     "metadata": {},
     "output_type": "execute_result"
    }
   ],
   "source": [
    "len(df_laptops['Company'].unique())"
   ]
  },
  {
   "cell_type": "code",
   "execution_count": 9,
   "id": "395b9d0d-82e0-43ef-932a-b7abd46b0f8c",
   "metadata": {},
   "outputs": [],
   "source": [
    "# And there are 19 unique elements in the Company column. \n",
    "# So that means there are 19 different Companies in the laptop's dataframe"
   ]
  },
  {
   "cell_type": "markdown",
   "id": "dbbb826e-a120-46fb-8f2c-1656c63f81e0",
   "metadata": {},
   "source": [
    "## 2. nunique()\n",
    "\n",
    "This method returns the number of unique elements in the object (it excludes NA values by default)."
   ]
  },
  {
   "cell_type": "code",
   "execution_count": 10,
   "id": "fe9f46ae-53af-45c9-83be-33444befb054",
   "metadata": {},
   "outputs": [
    {
     "data": {
      "text/plain": [
       "19"
      ]
     },
     "execution_count": 10,
     "metadata": {},
     "output_type": "execute_result"
    }
   ],
   "source": [
    "# getting the number of unique elements in the \"Company\" column\n",
    "df_laptops['Company'].nunique()"
   ]
  },
  {
   "cell_type": "code",
   "execution_count": 11,
   "id": "a265b4f7-dfd5-43c0-9d01-0416302bdd21",
   "metadata": {},
   "outputs": [],
   "source": [
    "# So there are 19 unique elements in the Company column and this result is the same \n",
    "# we obtained with the len() function"
   ]
  },
  {
   "cell_type": "code",
   "execution_count": 12,
   "id": "54693c45-e59e-4aad-a8dd-979b6695bfa0",
   "metadata": {},
   "outputs": [
    {
     "data": {
      "text/plain": [
       "18"
      ]
     },
     "execution_count": 12,
     "metadata": {},
     "output_type": "execute_result"
    }
   ],
   "source": [
    "# getting the number of unique elements in the \"Inches\" column\n",
    "df_laptops['Inches'].nunique()"
   ]
  },
  {
   "cell_type": "code",
   "execution_count": null,
   "id": "dd73fa36-4183-4cdb-b605-6b3a9695ba64",
   "metadata": {},
   "outputs": [],
   "source": [
    "# And here we got 18  unique elements in the Inches column..\n",
    "\n",
    "# And that's how we can get and count values using the unique and n-unique methods."
   ]
  }
 ],
 "metadata": {
  "kernelspec": {
   "display_name": "Python 3 (ipykernel)",
   "language": "python",
   "name": "python3"
  },
  "language_info": {
   "codemirror_mode": {
    "name": "ipython",
    "version": 3
   },
   "file_extension": ".py",
   "mimetype": "text/x-python",
   "name": "python",
   "nbconvert_exporter": "python",
   "pygments_lexer": "ipython3",
   "version": "3.13.5"
  }
 },
 "nbformat": 4,
 "nbformat_minor": 5
}
