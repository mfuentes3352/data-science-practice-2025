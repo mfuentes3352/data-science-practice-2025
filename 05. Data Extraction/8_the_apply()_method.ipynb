{
 "cells": [
  {
   "cell_type": "code",
   "execution_count": 1,
   "id": "6f6c40ed-5feb-4843-b753-4ba1d04994dc",
   "metadata": {},
   "outputs": [],
   "source": [
    "import pandas as pd"
   ]
  },
  {
   "cell_type": "code",
   "execution_count": 2,
   "id": "ce293c8c-adfe-41de-b0a3-42f4bef658eb",
   "metadata": {},
   "outputs": [],
   "source": [
    "# reading csv file\n",
    "df = pd.read_csv('players_20.csv')\n",
    "# setting index\n",
    "df.set_index('short_name', inplace=True)\n",
    "# selecting columns\n",
    "df = df[['long_name','age','dob','height_cm','weight_kg','nationality','club']]"
   ]
  },
  {
   "cell_type": "code",
   "execution_count": 3,
   "id": "6b791aef-e91d-4719-a20c-560d53a9f0e2",
   "metadata": {},
   "outputs": [
    {
     "data": {
      "text/html": [
       "<div>\n",
       "<style scoped>\n",
       "    .dataframe tbody tr th:only-of-type {\n",
       "        vertical-align: middle;\n",
       "    }\n",
       "\n",
       "    .dataframe tbody tr th {\n",
       "        vertical-align: top;\n",
       "    }\n",
       "\n",
       "    .dataframe thead th {\n",
       "        text-align: right;\n",
       "    }\n",
       "</style>\n",
       "<table border=\"1\" class=\"dataframe\">\n",
       "  <thead>\n",
       "    <tr style=\"text-align: right;\">\n",
       "      <th></th>\n",
       "      <th>long_name</th>\n",
       "      <th>age</th>\n",
       "      <th>dob</th>\n",
       "      <th>height_cm</th>\n",
       "      <th>weight_kg</th>\n",
       "      <th>nationality</th>\n",
       "      <th>club</th>\n",
       "    </tr>\n",
       "    <tr>\n",
       "      <th>short_name</th>\n",
       "      <th></th>\n",
       "      <th></th>\n",
       "      <th></th>\n",
       "      <th></th>\n",
       "      <th></th>\n",
       "      <th></th>\n",
       "      <th></th>\n",
       "    </tr>\n",
       "  </thead>\n",
       "  <tbody>\n",
       "    <tr>\n",
       "      <th>L. Messi</th>\n",
       "      <td>Lionel Andrés Messi Cuccittini</td>\n",
       "      <td>32</td>\n",
       "      <td>1987-06-24</td>\n",
       "      <td>170</td>\n",
       "      <td>72</td>\n",
       "      <td>Argentina</td>\n",
       "      <td>FC Barcelona</td>\n",
       "    </tr>\n",
       "    <tr>\n",
       "      <th>Cristiano Ronaldo</th>\n",
       "      <td>Cristiano Ronaldo dos Santos Aveiro</td>\n",
       "      <td>34</td>\n",
       "      <td>1985-02-05</td>\n",
       "      <td>187</td>\n",
       "      <td>83</td>\n",
       "      <td>Portugal</td>\n",
       "      <td>Juventus</td>\n",
       "    </tr>\n",
       "    <tr>\n",
       "      <th>Neymar Jr</th>\n",
       "      <td>Neymar da Silva Santos Junior</td>\n",
       "      <td>27</td>\n",
       "      <td>1992-02-05</td>\n",
       "      <td>175</td>\n",
       "      <td>68</td>\n",
       "      <td>Brazil</td>\n",
       "      <td>Paris Saint-Germain</td>\n",
       "    </tr>\n",
       "    <tr>\n",
       "      <th>J. Oblak</th>\n",
       "      <td>Jan Oblak</td>\n",
       "      <td>26</td>\n",
       "      <td>1993-01-07</td>\n",
       "      <td>188</td>\n",
       "      <td>87</td>\n",
       "      <td>Slovenia</td>\n",
       "      <td>Atlético Madrid</td>\n",
       "    </tr>\n",
       "    <tr>\n",
       "      <th>E. Hazard</th>\n",
       "      <td>Eden Hazard</td>\n",
       "      <td>28</td>\n",
       "      <td>1991-01-07</td>\n",
       "      <td>175</td>\n",
       "      <td>74</td>\n",
       "      <td>Belgium</td>\n",
       "      <td>Real Madrid</td>\n",
       "    </tr>\n",
       "  </tbody>\n",
       "</table>\n",
       "</div>"
      ],
      "text/plain": [
       "                                             long_name  age         dob  \\\n",
       "short_name                                                                \n",
       "L. Messi                Lionel Andrés Messi Cuccittini   32  1987-06-24   \n",
       "Cristiano Ronaldo  Cristiano Ronaldo dos Santos Aveiro   34  1985-02-05   \n",
       "Neymar Jr                Neymar da Silva Santos Junior   27  1992-02-05   \n",
       "J. Oblak                                     Jan Oblak   26  1993-01-07   \n",
       "E. Hazard                                  Eden Hazard   28  1991-01-07   \n",
       "\n",
       "                   height_cm  weight_kg nationality                 club  \n",
       "short_name                                                                \n",
       "L. Messi                 170         72   Argentina         FC Barcelona  \n",
       "Cristiano Ronaldo        187         83    Portugal             Juventus  \n",
       "Neymar Jr                175         68      Brazil  Paris Saint-Germain  \n",
       "J. Oblak                 188         87    Slovenia      Atlético Madrid  \n",
       "E. Hazard                175         74     Belgium          Real Madrid  "
      ]
     },
     "execution_count": 3,
     "metadata": {},
     "output_type": "execute_result"
    }
   ],
   "source": [
    "# showing dataframe\n",
    "df.head()"
   ]
  },
  {
   "cell_type": "markdown",
   "id": "03f1bc15-f34c-4c31-a5b4-0966c1f948b2",
   "metadata": {},
   "source": [
    "# 1. apply()\n",
    "\n",
    "The apply() method helps ups apply functions or operations to a dataframe or column. We can apply\\\n",
    "built-in functions as well as our own functions."
   ]
  },
  {
   "cell_type": "code",
   "execution_count": 9,
   "id": "7822c825-4abe-4b20-a8b6-17f02ac31ae2",
   "metadata": {},
   "outputs": [
    {
     "data": {
      "text/plain": [
       "short_name\n",
       "L. Messi             1024\n",
       "Cristiano Ronaldo    1156\n",
       "Neymar Jr             729\n",
       "J. Oblak              676\n",
       "E. Hazard             784\n",
       "                     ... \n",
       "Shao Shuai            484\n",
       "Xiao Mingjie          484\n",
       "Zhang Wei             361\n",
       "Wang Haijian          324\n",
       "Pan Ximing            676\n",
       "Name: age, Length: 18278, dtype: int64"
      ]
     },
     "execution_count": 9,
     "metadata": {},
     "output_type": "execute_result"
    }
   ],
   "source": [
    "# Using a numpy function and apply it to a series\n",
    "import numpy as np\n",
    "df['age'].apply(np.square)    # math functions that can be applied to a column: https://numpy.org/doc/stable/reference/routines.math.html"
   ]
  },
  {
   "cell_type": "code",
   "execution_count": 5,
   "id": "a486942d-8e20-4f83-b24e-7608cf532295",
   "metadata": {},
   "outputs": [],
   "source": [
    "# in this case, it's not very useful, but we can apply the same function to all the components in a column vector"
   ]
  },
  {
   "cell_type": "code",
   "execution_count": 10,
   "id": "d5743d1e-ab68-455d-a403-65ead1ba424f",
   "metadata": {},
   "outputs": [],
   "source": [
    "# Creating my own function and applying it to a dataframe\n",
    "# i'm going to create function that calculates the BMI of a soccer player (body mass index)\n",
    "\n",
    "def calculate_bmi(df_temp):\n",
    "    return df_temp['weight_kg']/((df_temp['height_cm']/100)**2)"
   ]
  },
  {
   "cell_type": "code",
   "execution_count": 11,
   "id": "335c6d48-d237-43e9-ac67-b6943dc8cf4c",
   "metadata": {},
   "outputs": [
    {
     "data": {
      "text/plain": [
       "short_name\n",
       "L. Messi             24.913495\n",
       "Cristiano Ronaldo    23.735308\n",
       "Neymar Jr            22.204082\n",
       "J. Oblak             24.615211\n",
       "E. Hazard            24.163265\n",
       "                       ...    \n",
       "Shao Shuai           22.835010\n",
       "Xiao Mingjie         21.066743\n",
       "Zhang Wei            21.678807\n",
       "Wang Haijian         21.621622\n",
       "Pan Ximing           23.547881\n",
       "Length: 18278, dtype: float64"
      ]
     },
     "execution_count": 11,
     "metadata": {},
     "output_type": "execute_result"
    }
   ],
   "source": [
    "df.apply(calculate_bmi, axis=1)\n",
    "\n",
    "# the axis parameter indicates how we want to apply this function.\n",
    "# axis=1 allows us to make operations with multiple columns"
   ]
  },
  {
   "cell_type": "code",
   "execution_count": null,
   "id": "c934930d-64b2-494b-a71f-9dcb6d8d7d3c",
   "metadata": {},
   "outputs": [],
   "source": [
    "# and here I can see we get the BMI of each soccer player.\n",
    "# So here I have 24.91 for L.Messi, 23.73 for C. Ronaldo, and so on.."
   ]
  },
  {
   "cell_type": "code",
   "execution_count": null,
   "id": "b7c1852e-187b-4274-933b-a412c303ce56",
   "metadata": {},
   "outputs": [],
   "source": [
    "# And that's how functions can be applied to a series and to a dataframe."
   ]
  }
 ],
 "metadata": {
  "kernelspec": {
   "display_name": "Python 3 (ipykernel)",
   "language": "python",
   "name": "python3"
  },
  "language_info": {
   "codemirror_mode": {
    "name": "ipython",
    "version": 3
   },
   "file_extension": ".py",
   "mimetype": "text/x-python",
   "name": "python",
   "nbconvert_exporter": "python",
   "pygments_lexer": "ipython3",
   "version": "3.13.5"
  }
 },
 "nbformat": 4,
 "nbformat_minor": 5
}
