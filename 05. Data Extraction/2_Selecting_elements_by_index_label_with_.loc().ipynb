{
 "cells": [
  {
   "cell_type": "code",
   "execution_count": 2,
   "id": "c34aa23c-a156-4333-b245-a8e17ce503e5",
   "metadata": {},
   "outputs": [],
   "source": [
    "import pandas as pd"
   ]
  },
  {
   "cell_type": "code",
   "execution_count": 3,
   "id": "44e44d6c-275f-4ccc-b892-a1d4123f57a7",
   "metadata": {},
   "outputs": [],
   "source": [
    "# reading csv file\n",
    "df = pd.read_csv('players_20.csv')\n",
    "\n",
    "# setting index\n",
    "df.set_index('short_name', inplace=True)\n",
    "\n",
    "# selecting columns\n",
    "df = df[['long_name','age','dob','height_cm','weight_kg','nationality','club']]"
   ]
  },
  {
   "cell_type": "code",
   "execution_count": 5,
   "id": "efb7148c-19e4-4c26-8999-932de1839f3f",
   "metadata": {},
   "outputs": [
    {
     "data": {
      "text/html": [
       "<div>\n",
       "<style scoped>\n",
       "    .dataframe tbody tr th:only-of-type {\n",
       "        vertical-align: middle;\n",
       "    }\n",
       "\n",
       "    .dataframe tbody tr th {\n",
       "        vertical-align: top;\n",
       "    }\n",
       "\n",
       "    .dataframe thead th {\n",
       "        text-align: right;\n",
       "    }\n",
       "</style>\n",
       "<table border=\"1\" class=\"dataframe\">\n",
       "  <thead>\n",
       "    <tr style=\"text-align: right;\">\n",
       "      <th></th>\n",
       "      <th>long_name</th>\n",
       "      <th>age</th>\n",
       "      <th>dob</th>\n",
       "      <th>height_cm</th>\n",
       "      <th>weight_kg</th>\n",
       "      <th>nationality</th>\n",
       "      <th>club</th>\n",
       "    </tr>\n",
       "    <tr>\n",
       "      <th>short_name</th>\n",
       "      <th></th>\n",
       "      <th></th>\n",
       "      <th></th>\n",
       "      <th></th>\n",
       "      <th></th>\n",
       "      <th></th>\n",
       "      <th></th>\n",
       "    </tr>\n",
       "  </thead>\n",
       "  <tbody>\n",
       "    <tr>\n",
       "      <th>L. Messi</th>\n",
       "      <td>Lionel Andrés Messi Cuccittini</td>\n",
       "      <td>32</td>\n",
       "      <td>1987-06-24</td>\n",
       "      <td>170</td>\n",
       "      <td>72</td>\n",
       "      <td>Argentina</td>\n",
       "      <td>FC Barcelona</td>\n",
       "    </tr>\n",
       "    <tr>\n",
       "      <th>Cristiano Ronaldo</th>\n",
       "      <td>Cristiano Ronaldo dos Santos Aveiro</td>\n",
       "      <td>34</td>\n",
       "      <td>1985-02-05</td>\n",
       "      <td>187</td>\n",
       "      <td>83</td>\n",
       "      <td>Portugal</td>\n",
       "      <td>Juventus</td>\n",
       "    </tr>\n",
       "    <tr>\n",
       "      <th>Neymar Jr</th>\n",
       "      <td>Neymar da Silva Santos Junior</td>\n",
       "      <td>27</td>\n",
       "      <td>1992-02-05</td>\n",
       "      <td>175</td>\n",
       "      <td>68</td>\n",
       "      <td>Brazil</td>\n",
       "      <td>Paris Saint-Germain</td>\n",
       "    </tr>\n",
       "    <tr>\n",
       "      <th>J. Oblak</th>\n",
       "      <td>Jan Oblak</td>\n",
       "      <td>26</td>\n",
       "      <td>1993-01-07</td>\n",
       "      <td>188</td>\n",
       "      <td>87</td>\n",
       "      <td>Slovenia</td>\n",
       "      <td>Atlético Madrid</td>\n",
       "    </tr>\n",
       "    <tr>\n",
       "      <th>E. Hazard</th>\n",
       "      <td>Eden Hazard</td>\n",
       "      <td>28</td>\n",
       "      <td>1991-01-07</td>\n",
       "      <td>175</td>\n",
       "      <td>74</td>\n",
       "      <td>Belgium</td>\n",
       "      <td>Real Madrid</td>\n",
       "    </tr>\n",
       "  </tbody>\n",
       "</table>\n",
       "</div>"
      ],
      "text/plain": [
       "                                             long_name  age         dob  \\\n",
       "short_name                                                                \n",
       "L. Messi                Lionel Andrés Messi Cuccittini   32  1987-06-24   \n",
       "Cristiano Ronaldo  Cristiano Ronaldo dos Santos Aveiro   34  1985-02-05   \n",
       "Neymar Jr                Neymar da Silva Santos Junior   27  1992-02-05   \n",
       "J. Oblak                                     Jan Oblak   26  1993-01-07   \n",
       "E. Hazard                                  Eden Hazard   28  1991-01-07   \n",
       "\n",
       "                   height_cm  weight_kg nationality                 club  \n",
       "short_name                                                                \n",
       "L. Messi                 170         72   Argentina         FC Barcelona  \n",
       "Cristiano Ronaldo        187         83    Portugal             Juventus  \n",
       "Neymar Jr                175         68      Brazil  Paris Saint-Germain  \n",
       "J. Oblak                 188         87    Slovenia      Atlético Madrid  \n",
       "E. Hazard                175         74     Belgium          Real Madrid  "
      ]
     },
     "execution_count": 5,
     "metadata": {},
     "output_type": "execute_result"
    }
   ],
   "source": [
    "# showing the dataframe\n",
    "df.head()"
   ]
  },
  {
   "cell_type": "markdown",
   "id": "20518667-be5a-41fb-9dd3-c9afd9b4bb63",
   "metadata": {},
   "source": [
    "# 1. Selecting with a single value\n",
    "\n",
    "We're going to select elements by index label with the .loc() method.\n",
    "\n",
    "loc[row_label, column_label]"
   ]
  },
  {
   "cell_type": "code",
   "execution_count": 6,
   "id": "dbe38997-2840-4590-9728-fae2787ec728",
   "metadata": {},
   "outputs": [
    {
     "data": {
      "text/plain": [
       "long_name      Lionel Andrés Messi Cuccittini\n",
       "age                                        32\n",
       "dob                                1987-06-24\n",
       "height_cm                                 170\n",
       "weight_kg                                  72\n",
       "nationality                         Argentina\n",
       "club                             FC Barcelona\n",
       "Name: L. Messi, dtype: object"
      ]
     },
     "execution_count": 6,
     "metadata": {},
     "output_type": "execute_result"
    }
   ],
   "source": [
    "# getting all data about L. Messi\n",
    "df.loc['L. Messi']"
   ]
  },
  {
   "cell_type": "code",
   "execution_count": 9,
   "id": "ab096dab-400f-4251-b81b-635d25978395",
   "metadata": {},
   "outputs": [],
   "source": [
    "# And we got all the data about this player. We have the full name, the age, date of birth\n",
    "# and all this data. So now let's get a particular value of this data that we got"
   ]
  },
  {
   "cell_type": "code",
   "execution_count": 11,
   "id": "647c14a3-fb87-471d-b8be-37150f96ac39",
   "metadata": {},
   "outputs": [
    {
     "data": {
      "text/plain": [
       "np.int64(170)"
      ]
     },
     "execution_count": 11,
     "metadata": {},
     "output_type": "execute_result"
    }
   ],
   "source": [
    "# getting the height of L. Messi\n",
    "df.loc['L. Messi', 'height_cm']"
   ]
  },
  {
   "cell_type": "code",
   "execution_count": null,
   "id": "cd9443d0-af83-4a60-8e18-7f87852b5d61",
   "metadata": {},
   "outputs": [],
   "source": [
    "# As I can see we got the value of 170, and that's the height of this player in cms"
   ]
  },
  {
   "cell_type": "code",
   "execution_count": 12,
   "id": "42594f32-4537-490c-bb83-86e9f4489937",
   "metadata": {},
   "outputs": [
    {
     "data": {
      "text/plain": [
       "np.int64(83)"
      ]
     },
     "execution_count": 12,
     "metadata": {},
     "output_type": "execute_result"
    }
   ],
   "source": [
    "# getting the weight of Cristiano Ronaldo\n",
    "df.loc['Cristiano Ronaldo', 'weight_kg']"
   ]
  },
  {
   "cell_type": "code",
   "execution_count": 13,
   "id": "3254a74a-716d-43c9-9bba-347d815cf914",
   "metadata": {},
   "outputs": [],
   "source": [
    "# And we can see that the weight of this player is 83 kg"
   ]
  },
  {
   "cell_type": "code",
   "execution_count": 14,
   "id": "a833e2d9-ca55-4f41-9395-7f976e8c8294",
   "metadata": {},
   "outputs": [
    {
     "data": {
      "text/plain": [
       "short_name\n",
       "L. Messi             170\n",
       "Cristiano Ronaldo    187\n",
       "Neymar Jr            175\n",
       "J. Oblak             188\n",
       "E. Hazard            175\n",
       "                    ... \n",
       "Shao Shuai           186\n",
       "Xiao Mingjie         177\n",
       "Zhang Wei            186\n",
       "Wang Haijian         185\n",
       "Pan Ximing           182\n",
       "Name: height_cm, Length: 18278, dtype: int64"
      ]
     },
     "execution_count": 14,
     "metadata": {},
     "output_type": "execute_result"
    }
   ],
   "source": [
    "# getting all rows inside the 'height_cm' column\n",
    "df.loc[:,'height_cm']\n",
    "\n",
    "# df.loc[: <all the rows, all the elements>, <feature_that_we_want>]"
   ]
  },
  {
   "cell_type": "code",
   "execution_count": 15,
   "id": "68531254-4817-4221-98e8-551bec99af5b",
   "metadata": {},
   "outputs": [],
   "source": [
    "# And now as we can see, we got this series, and this series\n",
    "# is about the height of the players. So here we have the information\n",
    "# about the height of all the players listed here. For example, Lionel Messi is 170 cm tall,\n",
    "# then Neymar is 175cm, and so on"
   ]
  },
  {
   "cell_type": "code",
   "execution_count": 16,
   "id": "129e70b4-a882-4d35-94d3-ff64261da3c6",
   "metadata": {},
   "outputs": [
    {
     "data": {
      "text/plain": [
       "long_name      Lionel Andrés Messi Cuccittini\n",
       "age                                        32\n",
       "dob                                1987-06-24\n",
       "height_cm                                 170\n",
       "weight_kg                                  72\n",
       "nationality                         Argentina\n",
       "club                             FC Barcelona\n",
       "Name: L. Messi, dtype: object"
      ]
     },
     "execution_count": 16,
     "metadata": {},
     "output_type": "execute_result"
    }
   ],
   "source": [
    "# getting all columns that correspond to the index 'L. Messi'\n",
    "df.loc['L. Messi', :]\n",
    "\n",
    "# df.loc[<name of the player, or observation we're interested in>, : <all the columns>]"
   ]
  },
  {
   "cell_type": "code",
   "execution_count": null,
   "id": "9b5d415e-083f-4660-9999-2322a9ef66d4",
   "metadata": {},
   "outputs": [],
   "source": [
    "# And this one looks similar to the result we obtained before"
   ]
  },
  {
   "cell_type": "markdown",
   "id": "4ab5dd89-4659-49f8-b18c-6f3ee9fd2f90",
   "metadata": {},
   "source": [
    "# 2. Selecting with a list of values"
   ]
  },
  {
   "cell_type": "code",
   "execution_count": 17,
   "id": "26940078-2fe9-48e9-8bc9-45b19303cae4",
   "metadata": {},
   "outputs": [
    {
     "data": {
      "text/html": [
       "<div>\n",
       "<style scoped>\n",
       "    .dataframe tbody tr th:only-of-type {\n",
       "        vertical-align: middle;\n",
       "    }\n",
       "\n",
       "    .dataframe tbody tr th {\n",
       "        vertical-align: top;\n",
       "    }\n",
       "\n",
       "    .dataframe thead th {\n",
       "        text-align: right;\n",
       "    }\n",
       "</style>\n",
       "<table border=\"1\" class=\"dataframe\">\n",
       "  <thead>\n",
       "    <tr style=\"text-align: right;\">\n",
       "      <th></th>\n",
       "      <th>long_name</th>\n",
       "      <th>age</th>\n",
       "      <th>dob</th>\n",
       "      <th>height_cm</th>\n",
       "      <th>weight_kg</th>\n",
       "      <th>nationality</th>\n",
       "      <th>club</th>\n",
       "    </tr>\n",
       "    <tr>\n",
       "      <th>short_name</th>\n",
       "      <th></th>\n",
       "      <th></th>\n",
       "      <th></th>\n",
       "      <th></th>\n",
       "      <th></th>\n",
       "      <th></th>\n",
       "      <th></th>\n",
       "    </tr>\n",
       "  </thead>\n",
       "  <tbody>\n",
       "    <tr>\n",
       "      <th>L. Messi</th>\n",
       "      <td>Lionel Andrés Messi Cuccittini</td>\n",
       "      <td>32</td>\n",
       "      <td>1987-06-24</td>\n",
       "      <td>170</td>\n",
       "      <td>72</td>\n",
       "      <td>Argentina</td>\n",
       "      <td>FC Barcelona</td>\n",
       "    </tr>\n",
       "    <tr>\n",
       "      <th>Cristiano Ronaldo</th>\n",
       "      <td>Cristiano Ronaldo dos Santos Aveiro</td>\n",
       "      <td>34</td>\n",
       "      <td>1985-02-05</td>\n",
       "      <td>187</td>\n",
       "      <td>83</td>\n",
       "      <td>Portugal</td>\n",
       "      <td>Juventus</td>\n",
       "    </tr>\n",
       "  </tbody>\n",
       "</table>\n",
       "</div>"
      ],
      "text/plain": [
       "                                             long_name  age         dob  \\\n",
       "short_name                                                                \n",
       "L. Messi                Lionel Andrés Messi Cuccittini   32  1987-06-24   \n",
       "Cristiano Ronaldo  Cristiano Ronaldo dos Santos Aveiro   34  1985-02-05   \n",
       "\n",
       "                   height_cm  weight_kg nationality          club  \n",
       "short_name                                                         \n",
       "L. Messi                 170         72   Argentina  FC Barcelona  \n",
       "Cristiano Ronaldo        187         83    Portugal      Juventus  "
      ]
     },
     "execution_count": 17,
     "metadata": {},
     "output_type": "execute_result"
    }
   ],
   "source": [
    "# getting all data about Lionel Messi and Cristiano ronaldo\n",
    "df.loc[['L. Messi','Cristiano Ronaldo'],:]"
   ]
  },
  {
   "cell_type": "code",
   "execution_count": 18,
   "id": "c5ac5b39-492c-4760-be91-2ea36def6806",
   "metadata": {},
   "outputs": [
    {
     "data": {
      "text/plain": [
       "short_name\n",
       "L. Messi             170\n",
       "Cristiano Ronaldo    187\n",
       "Name: height_cm, dtype: int64"
      ]
     },
     "execution_count": 18,
     "metadata": {},
     "output_type": "execute_result"
    }
   ],
   "source": [
    "# getting the height of Lionel Messi and Cristiano ronaldo\n",
    "df.loc[['L. Messi','Cristiano Ronaldo'],'height_cm']"
   ]
  },
  {
   "cell_type": "code",
   "execution_count": 19,
   "id": "542372cf-10a8-4e64-97d8-a83177240290",
   "metadata": {},
   "outputs": [],
   "source": [
    "# And now we only have the height of these two players"
   ]
  },
  {
   "cell_type": "code",
   "execution_count": 21,
   "id": "75db9428-9bd8-4f0a-996d-b99d99d7af7c",
   "metadata": {},
   "outputs": [
    {
     "data": {
      "text/plain": [
       "height_cm    170\n",
       "weight_kg     72\n",
       "Name: L. Messi, dtype: object"
      ]
     },
     "execution_count": 21,
     "metadata": {},
     "output_type": "execute_result"
    }
   ],
   "source": [
    "# getting the height and weight of L. Messi\n",
    "df.loc['L. Messi',['height_cm','weight_kg']]"
   ]
  },
  {
   "cell_type": "code",
   "execution_count": null,
   "id": "84773976-d493-41a5-8c5a-d2dd24b171af",
   "metadata": {},
   "outputs": [],
   "source": [
    "# And now we get the height and the weight of this player"
   ]
  },
  {
   "cell_type": "code",
   "execution_count": 23,
   "id": "900709be-ed46-430e-b92e-2166854c805c",
   "metadata": {},
   "outputs": [
    {
     "data": {
      "text/html": [
       "<div>\n",
       "<style scoped>\n",
       "    .dataframe tbody tr th:only-of-type {\n",
       "        vertical-align: middle;\n",
       "    }\n",
       "\n",
       "    .dataframe tbody tr th {\n",
       "        vertical-align: top;\n",
       "    }\n",
       "\n",
       "    .dataframe thead th {\n",
       "        text-align: right;\n",
       "    }\n",
       "</style>\n",
       "<table border=\"1\" class=\"dataframe\">\n",
       "  <thead>\n",
       "    <tr style=\"text-align: right;\">\n",
       "      <th></th>\n",
       "      <th>height_cm</th>\n",
       "      <th>weight_kg</th>\n",
       "    </tr>\n",
       "    <tr>\n",
       "      <th>short_name</th>\n",
       "      <th></th>\n",
       "      <th></th>\n",
       "    </tr>\n",
       "  </thead>\n",
       "  <tbody>\n",
       "    <tr>\n",
       "      <th>L. Messi</th>\n",
       "      <td>170</td>\n",
       "      <td>72</td>\n",
       "    </tr>\n",
       "    <tr>\n",
       "      <th>Cristiano Ronaldo</th>\n",
       "      <td>187</td>\n",
       "      <td>83</td>\n",
       "    </tr>\n",
       "  </tbody>\n",
       "</table>\n",
       "</div>"
      ],
      "text/plain": [
       "                   height_cm  weight_kg\n",
       "short_name                             \n",
       "L. Messi                 170         72\n",
       "Cristiano Ronaldo        187         83"
      ]
     },
     "execution_count": 23,
     "metadata": {},
     "output_type": "execute_result"
    }
   ],
   "source": [
    "# getting the height and weight of L. Messi and Cristiano Ronaldo\n",
    "df.loc[['L. Messi','Cristiano Ronaldo'],['height_cm','weight_kg']]"
   ]
  },
  {
   "cell_type": "code",
   "execution_count": 24,
   "id": "b3e1ad87-a815-4c0b-bda2-a399641d9ef6",
   "metadata": {},
   "outputs": [],
   "source": [
    "# And now we can see that we have this little dataframe\n",
    "# with the height and weight of Messi and Ronaldo. "
   ]
  },
  {
   "cell_type": "markdown",
   "id": "77aa3daa-b205-415e-a61d-cabbf8752803",
   "metadata": {},
   "source": [
    "# 3. Selecting a range of data with a slice\n",
    "\n",
    "start:stop:step (we should note that, contrary to usual python slices, both the start and the stop are included)"
   ]
  },
  {
   "cell_type": "code",
   "execution_count": 25,
   "id": "fa6e472f-263a-4ee8-9c59-72b459e6ed84",
   "metadata": {},
   "outputs": [
    {
     "data": {
      "text/html": [
       "<div>\n",
       "<style scoped>\n",
       "    .dataframe tbody tr th:only-of-type {\n",
       "        vertical-align: middle;\n",
       "    }\n",
       "\n",
       "    .dataframe tbody tr th {\n",
       "        vertical-align: top;\n",
       "    }\n",
       "\n",
       "    .dataframe thead th {\n",
       "        text-align: right;\n",
       "    }\n",
       "</style>\n",
       "<table border=\"1\" class=\"dataframe\">\n",
       "  <thead>\n",
       "    <tr style=\"text-align: right;\">\n",
       "      <th></th>\n",
       "      <th>age</th>\n",
       "      <th>dob</th>\n",
       "      <th>height_cm</th>\n",
       "      <th>weight_kg</th>\n",
       "      <th>nationality</th>\n",
       "      <th>club</th>\n",
       "    </tr>\n",
       "    <tr>\n",
       "      <th>short_name</th>\n",
       "      <th></th>\n",
       "      <th></th>\n",
       "      <th></th>\n",
       "      <th></th>\n",
       "      <th></th>\n",
       "      <th></th>\n",
       "    </tr>\n",
       "  </thead>\n",
       "  <tbody>\n",
       "    <tr>\n",
       "      <th>L. Messi</th>\n",
       "      <td>32</td>\n",
       "      <td>1987-06-24</td>\n",
       "      <td>170</td>\n",
       "      <td>72</td>\n",
       "      <td>Argentina</td>\n",
       "      <td>FC Barcelona</td>\n",
       "    </tr>\n",
       "    <tr>\n",
       "      <th>Cristiano Ronaldo</th>\n",
       "      <td>34</td>\n",
       "      <td>1985-02-05</td>\n",
       "      <td>187</td>\n",
       "      <td>83</td>\n",
       "      <td>Portugal</td>\n",
       "      <td>Juventus</td>\n",
       "    </tr>\n",
       "  </tbody>\n",
       "</table>\n",
       "</div>"
      ],
      "text/plain": [
       "                   age         dob  height_cm  weight_kg nationality  \\\n",
       "short_name                                                             \n",
       "L. Messi            32  1987-06-24        170         72   Argentina   \n",
       "Cristiano Ronaldo   34  1985-02-05        187         83    Portugal   \n",
       "\n",
       "                           club  \n",
       "short_name                       \n",
       "L. Messi           FC Barcelona  \n",
       "Cristiano Ronaldo      Juventus  "
      ]
     },
     "execution_count": 25,
     "metadata": {},
     "output_type": "execute_result"
    }
   ],
   "source": [
    "# slicing column labels\n",
    "players = ['L. Messi','Cristiano Ronaldo']\n",
    "\n",
    "df.loc[players, 'age':'club']"
   ]
  },
  {
   "cell_type": "code",
   "execution_count": 26,
   "id": "5832c31b-1e38-4a6f-adb5-e3548812d90c",
   "metadata": {},
   "outputs": [],
   "source": [
    "# And now as we can see we have the slice between 'age' and 'club'.\n",
    "# So only the columns between these two columns were selected.\n",
    "\n",
    "# So that's how you make a slice with column labels."
   ]
  },
  {
   "cell_type": "code",
   "execution_count": 27,
   "id": "2c39b074-7860-4e5b-8f13-e4d0d0307126",
   "metadata": {},
   "outputs": [
    {
     "data": {
      "text/plain": [
       "Index(['L. Messi', 'Cristiano Ronaldo', 'Neymar Jr', 'J. Oblak', 'E. Hazard',\n",
       "       'K. De Bruyne', 'M. ter Stegen', 'V. van Dijk', 'L. Modrić',\n",
       "       'M. Salah'],\n",
       "      dtype='object', name='short_name')"
      ]
     },
     "execution_count": 27,
     "metadata": {},
     "output_type": "execute_result"
    }
   ],
   "source": [
    "# slicing index labels \n",
    "columns = ['age', 'dob', 'height_cm', 'weight_kg']\n",
    "\n",
    "# In this example, we want to slice index labels that are between the top1 and the top10 player. \n",
    "\n",
    "# So this dataset sorts the players based on their scores in the FIFA game :)\n",
    "# So the first player (1st row) that is in this dataset is the best player acording to this FIFA game.\n",
    "# And the 10th player in this df is the 10th best player in this game.\n",
    "\n",
    "# So here we can get a slice that represents the top ten players \n",
    "# (las 10 primeras filas y de la columna 'age' hasta 'weight_kg')\n",
    "\n",
    "# getting top1 and top10 player name\n",
    "df.index[:10]"
   ]
  },
  {
   "cell_type": "code",
   "execution_count": 28,
   "id": "4956fff9-e7e6-472b-baf9-e9a61032afc7",
   "metadata": {},
   "outputs": [],
   "source": [
    "# We have that the best player in this game is 'L. Messi' and the 10th best player is\n",
    "# Muhammad Salah. So now we can make a slice by writing both Lionel Messi and Muhammad Salah"
   ]
  },
  {
   "cell_type": "code",
   "execution_count": 29,
   "id": "78ef9c80-8b1f-4be1-aa70-4d3658a4a7f4",
   "metadata": {},
   "outputs": [
    {
     "data": {
      "text/html": [
       "<div>\n",
       "<style scoped>\n",
       "    .dataframe tbody tr th:only-of-type {\n",
       "        vertical-align: middle;\n",
       "    }\n",
       "\n",
       "    .dataframe tbody tr th {\n",
       "        vertical-align: top;\n",
       "    }\n",
       "\n",
       "    .dataframe thead th {\n",
       "        text-align: right;\n",
       "    }\n",
       "</style>\n",
       "<table border=\"1\" class=\"dataframe\">\n",
       "  <thead>\n",
       "    <tr style=\"text-align: right;\">\n",
       "      <th></th>\n",
       "      <th>age</th>\n",
       "      <th>dob</th>\n",
       "      <th>height_cm</th>\n",
       "      <th>weight_kg</th>\n",
       "    </tr>\n",
       "    <tr>\n",
       "      <th>short_name</th>\n",
       "      <th></th>\n",
       "      <th></th>\n",
       "      <th></th>\n",
       "      <th></th>\n",
       "    </tr>\n",
       "  </thead>\n",
       "  <tbody>\n",
       "    <tr>\n",
       "      <th>L. Messi</th>\n",
       "      <td>32</td>\n",
       "      <td>1987-06-24</td>\n",
       "      <td>170</td>\n",
       "      <td>72</td>\n",
       "    </tr>\n",
       "    <tr>\n",
       "      <th>Cristiano Ronaldo</th>\n",
       "      <td>34</td>\n",
       "      <td>1985-02-05</td>\n",
       "      <td>187</td>\n",
       "      <td>83</td>\n",
       "    </tr>\n",
       "    <tr>\n",
       "      <th>Neymar Jr</th>\n",
       "      <td>27</td>\n",
       "      <td>1992-02-05</td>\n",
       "      <td>175</td>\n",
       "      <td>68</td>\n",
       "    </tr>\n",
       "    <tr>\n",
       "      <th>J. Oblak</th>\n",
       "      <td>26</td>\n",
       "      <td>1993-01-07</td>\n",
       "      <td>188</td>\n",
       "      <td>87</td>\n",
       "    </tr>\n",
       "    <tr>\n",
       "      <th>E. Hazard</th>\n",
       "      <td>28</td>\n",
       "      <td>1991-01-07</td>\n",
       "      <td>175</td>\n",
       "      <td>74</td>\n",
       "    </tr>\n",
       "    <tr>\n",
       "      <th>K. De Bruyne</th>\n",
       "      <td>28</td>\n",
       "      <td>1991-06-28</td>\n",
       "      <td>181</td>\n",
       "      <td>70</td>\n",
       "    </tr>\n",
       "    <tr>\n",
       "      <th>M. ter Stegen</th>\n",
       "      <td>27</td>\n",
       "      <td>1992-04-30</td>\n",
       "      <td>187</td>\n",
       "      <td>85</td>\n",
       "    </tr>\n",
       "    <tr>\n",
       "      <th>V. van Dijk</th>\n",
       "      <td>27</td>\n",
       "      <td>1991-07-08</td>\n",
       "      <td>193</td>\n",
       "      <td>92</td>\n",
       "    </tr>\n",
       "    <tr>\n",
       "      <th>L. Modrić</th>\n",
       "      <td>33</td>\n",
       "      <td>1985-09-09</td>\n",
       "      <td>172</td>\n",
       "      <td>66</td>\n",
       "    </tr>\n",
       "    <tr>\n",
       "      <th>M. Salah</th>\n",
       "      <td>27</td>\n",
       "      <td>1992-06-15</td>\n",
       "      <td>175</td>\n",
       "      <td>71</td>\n",
       "    </tr>\n",
       "  </tbody>\n",
       "</table>\n",
       "</div>"
      ],
      "text/plain": [
       "                   age         dob  height_cm  weight_kg\n",
       "short_name                                              \n",
       "L. Messi            32  1987-06-24        170         72\n",
       "Cristiano Ronaldo   34  1985-02-05        187         83\n",
       "Neymar Jr           27  1992-02-05        175         68\n",
       "J. Oblak            26  1993-01-07        188         87\n",
       "E. Hazard           28  1991-01-07        175         74\n",
       "K. De Bruyne        28  1991-06-28        181         70\n",
       "M. ter Stegen       27  1992-04-30        187         85\n",
       "V. van Dijk         27  1991-07-08        193         92\n",
       "L. Modrić           33  1985-09-09        172         66\n",
       "M. Salah            27  1992-06-15        175         71"
      ]
     },
     "execution_count": 29,
     "metadata": {},
     "output_type": "execute_result"
    }
   ],
   "source": [
    "df.loc['L. Messi':'M. Salah', columns]"
   ]
  },
  {
   "cell_type": "code",
   "execution_count": 30,
   "id": "6688019c-ccc2-45d8-80f8-843fa8732ffc",
   "metadata": {},
   "outputs": [],
   "source": [
    "# So now we can see that we got the first 10 players in this dataframe with the features we selected.\n",
    "# So from Lionel Messi (which is index 0) to Muhammad Salah (which is index 9)\n",
    "\n",
    "# And that's how a range of data can be selected with a slice in the columns or in the index. "
   ]
  },
  {
   "cell_type": "markdown",
   "id": "b4fe6f20-9c44-441c-8600-6f4ddef2a41e",
   "metadata": {},
   "source": [
    "# 4. Selecting with conditions"
   ]
  },
  {
   "cell_type": "code",
   "execution_count": 31,
   "id": "70127a7a-06e1-4f56-9ce7-2edd92a1dd01",
   "metadata": {},
   "outputs": [
    {
     "data": {
      "text/html": [
       "<div>\n",
       "<style scoped>\n",
       "    .dataframe tbody tr th:only-of-type {\n",
       "        vertical-align: middle;\n",
       "    }\n",
       "\n",
       "    .dataframe tbody tr th {\n",
       "        vertical-align: top;\n",
       "    }\n",
       "\n",
       "    .dataframe thead th {\n",
       "        text-align: right;\n",
       "    }\n",
       "</style>\n",
       "<table border=\"1\" class=\"dataframe\">\n",
       "  <thead>\n",
       "    <tr style=\"text-align: right;\">\n",
       "      <th></th>\n",
       "      <th>age</th>\n",
       "      <th>dob</th>\n",
       "      <th>height_cm</th>\n",
       "      <th>weight_kg</th>\n",
       "    </tr>\n",
       "    <tr>\n",
       "      <th>short_name</th>\n",
       "      <th></th>\n",
       "      <th></th>\n",
       "      <th></th>\n",
       "      <th></th>\n",
       "    </tr>\n",
       "  </thead>\n",
       "  <tbody>\n",
       "    <tr>\n",
       "      <th>Cristiano Ronaldo</th>\n",
       "      <td>34</td>\n",
       "      <td>1985-02-05</td>\n",
       "      <td>187</td>\n",
       "      <td>83</td>\n",
       "    </tr>\n",
       "    <tr>\n",
       "      <th>J. Oblak</th>\n",
       "      <td>26</td>\n",
       "      <td>1993-01-07</td>\n",
       "      <td>188</td>\n",
       "      <td>87</td>\n",
       "    </tr>\n",
       "    <tr>\n",
       "      <th>K. De Bruyne</th>\n",
       "      <td>28</td>\n",
       "      <td>1991-06-28</td>\n",
       "      <td>181</td>\n",
       "      <td>70</td>\n",
       "    </tr>\n",
       "    <tr>\n",
       "      <th>M. ter Stegen</th>\n",
       "      <td>27</td>\n",
       "      <td>1992-04-30</td>\n",
       "      <td>187</td>\n",
       "      <td>85</td>\n",
       "    </tr>\n",
       "    <tr>\n",
       "      <th>V. van Dijk</th>\n",
       "      <td>27</td>\n",
       "      <td>1991-07-08</td>\n",
       "      <td>193</td>\n",
       "      <td>92</td>\n",
       "    </tr>\n",
       "    <tr>\n",
       "      <th>...</th>\n",
       "      <td>...</td>\n",
       "      <td>...</td>\n",
       "      <td>...</td>\n",
       "      <td>...</td>\n",
       "    </tr>\n",
       "    <tr>\n",
       "      <th>P. Martin</th>\n",
       "      <td>20</td>\n",
       "      <td>1999-01-05</td>\n",
       "      <td>188</td>\n",
       "      <td>84</td>\n",
       "    </tr>\n",
       "    <tr>\n",
       "      <th>Shao Shuai</th>\n",
       "      <td>22</td>\n",
       "      <td>1997-03-10</td>\n",
       "      <td>186</td>\n",
       "      <td>79</td>\n",
       "    </tr>\n",
       "    <tr>\n",
       "      <th>Zhang Wei</th>\n",
       "      <td>19</td>\n",
       "      <td>2000-05-16</td>\n",
       "      <td>186</td>\n",
       "      <td>75</td>\n",
       "    </tr>\n",
       "    <tr>\n",
       "      <th>Wang Haijian</th>\n",
       "      <td>18</td>\n",
       "      <td>2000-08-02</td>\n",
       "      <td>185</td>\n",
       "      <td>74</td>\n",
       "    </tr>\n",
       "    <tr>\n",
       "      <th>Pan Ximing</th>\n",
       "      <td>26</td>\n",
       "      <td>1993-01-11</td>\n",
       "      <td>182</td>\n",
       "      <td>78</td>\n",
       "    </tr>\n",
       "  </tbody>\n",
       "</table>\n",
       "<p>9744 rows × 4 columns</p>\n",
       "</div>"
      ],
      "text/plain": [
       "                   age         dob  height_cm  weight_kg\n",
       "short_name                                              \n",
       "Cristiano Ronaldo   34  1985-02-05        187         83\n",
       "J. Oblak            26  1993-01-07        188         87\n",
       "K. De Bruyne        28  1991-06-28        181         70\n",
       "M. ter Stegen       27  1992-04-30        187         85\n",
       "V. van Dijk         27  1991-07-08        193         92\n",
       "...                ...         ...        ...        ...\n",
       "P. Martin           20  1999-01-05        188         84\n",
       "Shao Shuai          22  1997-03-10        186         79\n",
       "Zhang Wei           19  2000-05-16        186         75\n",
       "Wang Haijian        18  2000-08-02        185         74\n",
       "Pan Ximing          26  1993-01-11        182         78\n",
       "\n",
       "[9744 rows x 4 columns]"
      ]
     },
     "execution_count": 31,
     "metadata": {},
     "output_type": "execute_result"
    }
   ],
   "source": [
    "# one condition: selecting players with height above 180cm\n",
    "columns = ['age', 'dob', 'height_cm', 'weight_kg']\n",
    "\n",
    "df.loc[df['height_cm'] > 180 , columns]\n",
    "\n",
    "# df.loc[ <index_filter>, selected_columns ]\n",
    "# So now we're selecting elements that satisfy this condition in the index\n",
    "# and that belongs to these columns inside this columns variable."
   ]
  },
  {
   "cell_type": "code",
   "execution_count": null,
   "id": "5929e378-44eb-4116-8179-825c8a3de9e0",
   "metadata": {},
   "outputs": [],
   "source": [
    "# And we can see here in this df only players above 180 cm. So for example,\n",
    "# L. Messi is not here because he is 170 cm. But C. Ronaldo is here because he's taller than 180 cm"
   ]
  },
  {
   "cell_type": "code",
   "execution_count": 36,
   "id": "9d1f2da8-7b5b-4d71-a64a-2d2b41600b75",
   "metadata": {},
   "outputs": [
    {
     "data": {
      "text/html": [
       "<div>\n",
       "<style scoped>\n",
       "    .dataframe tbody tr th:only-of-type {\n",
       "        vertical-align: middle;\n",
       "    }\n",
       "\n",
       "    .dataframe tbody tr th {\n",
       "        vertical-align: top;\n",
       "    }\n",
       "\n",
       "    .dataframe thead th {\n",
       "        text-align: right;\n",
       "    }\n",
       "</style>\n",
       "<table border=\"1\" class=\"dataframe\">\n",
       "  <thead>\n",
       "    <tr style=\"text-align: right;\">\n",
       "      <th></th>\n",
       "      <th>long_name</th>\n",
       "      <th>age</th>\n",
       "      <th>dob</th>\n",
       "      <th>height_cm</th>\n",
       "      <th>weight_kg</th>\n",
       "      <th>nationality</th>\n",
       "      <th>club</th>\n",
       "    </tr>\n",
       "    <tr>\n",
       "      <th>short_name</th>\n",
       "      <th></th>\n",
       "      <th></th>\n",
       "      <th></th>\n",
       "      <th></th>\n",
       "      <th></th>\n",
       "      <th></th>\n",
       "      <th></th>\n",
       "    </tr>\n",
       "  </thead>\n",
       "  <tbody>\n",
       "    <tr>\n",
       "      <th>M. Icardi</th>\n",
       "      <td>Mauro Emanuel Icardi Rivero</td>\n",
       "      <td>26</td>\n",
       "      <td>1993-02-19</td>\n",
       "      <td>181</td>\n",
       "      <td>75</td>\n",
       "      <td>Argentina</td>\n",
       "      <td>Inter</td>\n",
       "    </tr>\n",
       "    <tr>\n",
       "      <th>G. Higuaín</th>\n",
       "      <td>Gonzalo Gerardo Higuaín</td>\n",
       "      <td>31</td>\n",
       "      <td>1987-12-10</td>\n",
       "      <td>186</td>\n",
       "      <td>89</td>\n",
       "      <td>Argentina</td>\n",
       "      <td>Juventus</td>\n",
       "    </tr>\n",
       "    <tr>\n",
       "      <th>E. Garay</th>\n",
       "      <td>Ezequiel Marcelo Garay</td>\n",
       "      <td>32</td>\n",
       "      <td>1986-10-10</td>\n",
       "      <td>189</td>\n",
       "      <td>90</td>\n",
       "      <td>Argentina</td>\n",
       "      <td>Valencia CF</td>\n",
       "    </tr>\n",
       "    <tr>\n",
       "      <th>N. Otamendi</th>\n",
       "      <td>Nicolás Hernán Otamendi</td>\n",
       "      <td>31</td>\n",
       "      <td>1988-02-12</td>\n",
       "      <td>183</td>\n",
       "      <td>81</td>\n",
       "      <td>Argentina</td>\n",
       "      <td>Manchester City</td>\n",
       "    </tr>\n",
       "    <tr>\n",
       "      <th>G. Rulli</th>\n",
       "      <td>Gerónimo Rulli</td>\n",
       "      <td>27</td>\n",
       "      <td>1992-05-20</td>\n",
       "      <td>189</td>\n",
       "      <td>84</td>\n",
       "      <td>Argentina</td>\n",
       "      <td>Montpellier HSC</td>\n",
       "    </tr>\n",
       "    <tr>\n",
       "      <th>...</th>\n",
       "      <td>...</td>\n",
       "      <td>...</td>\n",
       "      <td>...</td>\n",
       "      <td>...</td>\n",
       "      <td>...</td>\n",
       "      <td>...</td>\n",
       "      <td>...</td>\n",
       "    </tr>\n",
       "    <tr>\n",
       "      <th>T. Durso</th>\n",
       "      <td>Tomás Durso</td>\n",
       "      <td>20</td>\n",
       "      <td>1999-02-26</td>\n",
       "      <td>185</td>\n",
       "      <td>80</td>\n",
       "      <td>Argentina</td>\n",
       "      <td>Gimnasia y Esgrima La Plata</td>\n",
       "    </tr>\n",
       "    <tr>\n",
       "      <th>J. Hass</th>\n",
       "      <td>Joaquín Hass</td>\n",
       "      <td>21</td>\n",
       "      <td>1998-03-27</td>\n",
       "      <td>186</td>\n",
       "      <td>88</td>\n",
       "      <td>Argentina</td>\n",
       "      <td>Club Atlético Colón</td>\n",
       "    </tr>\n",
       "    <tr>\n",
       "      <th>R. Ferrario</th>\n",
       "      <td>Rafael Ferrario</td>\n",
       "      <td>19</td>\n",
       "      <td>2000-04-30</td>\n",
       "      <td>186</td>\n",
       "      <td>76</td>\n",
       "      <td>Argentina</td>\n",
       "      <td>Club Atlético Huracán</td>\n",
       "    </tr>\n",
       "    <tr>\n",
       "      <th>L. Finochietto</th>\n",
       "      <td>Leandro Finochietto</td>\n",
       "      <td>22</td>\n",
       "      <td>1997-04-25</td>\n",
       "      <td>186</td>\n",
       "      <td>77</td>\n",
       "      <td>Argentina</td>\n",
       "      <td>Argentinos Juniors</td>\n",
       "    </tr>\n",
       "    <tr>\n",
       "      <th>N. Forastiero</th>\n",
       "      <td>Nicolás Forastiero</td>\n",
       "      <td>20</td>\n",
       "      <td>1998-07-16</td>\n",
       "      <td>182</td>\n",
       "      <td>79</td>\n",
       "      <td>Argentina</td>\n",
       "      <td>Argentinos Juniors</td>\n",
       "    </tr>\n",
       "  </tbody>\n",
       "</table>\n",
       "<p>350 rows × 7 columns</p>\n",
       "</div>"
      ],
      "text/plain": [
       "                                  long_name  age         dob  height_cm  \\\n",
       "short_name                                                                \n",
       "M. Icardi       Mauro Emanuel Icardi Rivero   26  1993-02-19        181   \n",
       "G. Higuaín          Gonzalo Gerardo Higuaín   31  1987-12-10        186   \n",
       "E. Garay             Ezequiel Marcelo Garay   32  1986-10-10        189   \n",
       "N. Otamendi         Nicolás Hernán Otamendi   31  1988-02-12        183   \n",
       "G. Rulli                     Gerónimo Rulli   27  1992-05-20        189   \n",
       "...                                     ...  ...         ...        ...   \n",
       "T. Durso                        Tomás Durso   20  1999-02-26        185   \n",
       "J. Hass                        Joaquín Hass   21  1998-03-27        186   \n",
       "R. Ferrario                 Rafael Ferrario   19  2000-04-30        186   \n",
       "L. Finochietto          Leandro Finochietto   22  1997-04-25        186   \n",
       "N. Forastiero            Nicolás Forastiero   20  1998-07-16        182   \n",
       "\n",
       "                weight_kg nationality                         club  \n",
       "short_name                                                          \n",
       "M. Icardi              75   Argentina                        Inter  \n",
       "G. Higuaín             89   Argentina                     Juventus  \n",
       "E. Garay               90   Argentina                  Valencia CF  \n",
       "N. Otamendi            81   Argentina              Manchester City  \n",
       "G. Rulli               84   Argentina              Montpellier HSC  \n",
       "...                   ...         ...                          ...  \n",
       "T. Durso               80   Argentina  Gimnasia y Esgrima La Plata  \n",
       "J. Hass                88   Argentina          Club Atlético Colón  \n",
       "R. Ferrario            76   Argentina        Club Atlético Huracán  \n",
       "L. Finochietto         77   Argentina           Argentinos Juniors  \n",
       "N. Forastiero          79   Argentina           Argentinos Juniors  \n",
       "\n",
       "[350 rows x 7 columns]"
      ]
     },
     "execution_count": 36,
     "metadata": {},
     "output_type": "execute_result"
    }
   ],
   "source": [
    "# multiple conditions: selecting players with height above 180 cm from Argentina\n",
    "filter = ( df['height_cm'] > 180 ) & ( df['nationality'] == 'Argentina')    # it's going to select elements\n",
    "                                                                            # based on this condition\n",
    "df.loc[filter, :]"
   ]
  },
  {
   "cell_type": "code",
   "execution_count": 37,
   "id": "b94305c9-854f-4904-9a1d-9d8732ba6c38",
   "metadata": {},
   "outputs": [],
   "source": [
    "# So as we can see here, we don't have Cristiano Ronaldo anymore because he's from Portugal. \n",
    "# but we have other players from Argentina with height above 180 cm.\n",
    "\n",
    "# And those are different ways to select elements with the .loc() method."
   ]
  }
 ],
 "metadata": {
  "kernelspec": {
   "display_name": "Python 3 (ipykernel)",
   "language": "python",
   "name": "python3"
  },
  "language_info": {
   "codemirror_mode": {
    "name": "ipython",
    "version": 3
   },
   "file_extension": ".py",
   "mimetype": "text/x-python",
   "name": "python",
   "nbconvert_exporter": "python",
   "pygments_lexer": "ipython3",
   "version": "3.13.5"
  }
 },
 "nbformat": 4,
 "nbformat_minor": 5
}
