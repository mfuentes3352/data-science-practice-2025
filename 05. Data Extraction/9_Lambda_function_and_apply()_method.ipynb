{
 "cells": [
  {
   "cell_type": "code",
   "execution_count": 1,
   "id": "3017113d-5f94-4913-b7ba-6465e5f077d7",
   "metadata": {},
   "outputs": [],
   "source": [
    "import pandas as pd"
   ]
  },
  {
   "cell_type": "code",
   "execution_count": 2,
   "id": "eeb07b56-b92c-4aba-bdf2-72158fa485b8",
   "metadata": {},
   "outputs": [],
   "source": [
    "# reading csv file\n",
    "df = pd.read_csv('players_20.csv')\n",
    "# setting index\n",
    "df.set_index('short_name', inplace=True)\n",
    "# selecting columns\n",
    "df = df[['long_name','age','dob','height_cm','weight_kg','nationality','club']]"
   ]
  },
  {
   "cell_type": "code",
   "execution_count": 3,
   "id": "e6514692-88f2-41a3-b728-bcaaf224a30b",
   "metadata": {},
   "outputs": [
    {
     "data": {
      "text/html": [
       "<div>\n",
       "<style scoped>\n",
       "    .dataframe tbody tr th:only-of-type {\n",
       "        vertical-align: middle;\n",
       "    }\n",
       "\n",
       "    .dataframe tbody tr th {\n",
       "        vertical-align: top;\n",
       "    }\n",
       "\n",
       "    .dataframe thead th {\n",
       "        text-align: right;\n",
       "    }\n",
       "</style>\n",
       "<table border=\"1\" class=\"dataframe\">\n",
       "  <thead>\n",
       "    <tr style=\"text-align: right;\">\n",
       "      <th></th>\n",
       "      <th>long_name</th>\n",
       "      <th>age</th>\n",
       "      <th>dob</th>\n",
       "      <th>height_cm</th>\n",
       "      <th>weight_kg</th>\n",
       "      <th>nationality</th>\n",
       "      <th>club</th>\n",
       "    </tr>\n",
       "    <tr>\n",
       "      <th>short_name</th>\n",
       "      <th></th>\n",
       "      <th></th>\n",
       "      <th></th>\n",
       "      <th></th>\n",
       "      <th></th>\n",
       "      <th></th>\n",
       "      <th></th>\n",
       "    </tr>\n",
       "  </thead>\n",
       "  <tbody>\n",
       "    <tr>\n",
       "      <th>L. Messi</th>\n",
       "      <td>Lionel Andrés Messi Cuccittini</td>\n",
       "      <td>32</td>\n",
       "      <td>1987-06-24</td>\n",
       "      <td>170</td>\n",
       "      <td>72</td>\n",
       "      <td>Argentina</td>\n",
       "      <td>FC Barcelona</td>\n",
       "    </tr>\n",
       "    <tr>\n",
       "      <th>Cristiano Ronaldo</th>\n",
       "      <td>Cristiano Ronaldo dos Santos Aveiro</td>\n",
       "      <td>34</td>\n",
       "      <td>1985-02-05</td>\n",
       "      <td>187</td>\n",
       "      <td>83</td>\n",
       "      <td>Portugal</td>\n",
       "      <td>Juventus</td>\n",
       "    </tr>\n",
       "    <tr>\n",
       "      <th>Neymar Jr</th>\n",
       "      <td>Neymar da Silva Santos Junior</td>\n",
       "      <td>27</td>\n",
       "      <td>1992-02-05</td>\n",
       "      <td>175</td>\n",
       "      <td>68</td>\n",
       "      <td>Brazil</td>\n",
       "      <td>Paris Saint-Germain</td>\n",
       "    </tr>\n",
       "    <tr>\n",
       "      <th>J. Oblak</th>\n",
       "      <td>Jan Oblak</td>\n",
       "      <td>26</td>\n",
       "      <td>1993-01-07</td>\n",
       "      <td>188</td>\n",
       "      <td>87</td>\n",
       "      <td>Slovenia</td>\n",
       "      <td>Atlético Madrid</td>\n",
       "    </tr>\n",
       "    <tr>\n",
       "      <th>E. Hazard</th>\n",
       "      <td>Eden Hazard</td>\n",
       "      <td>28</td>\n",
       "      <td>1991-01-07</td>\n",
       "      <td>175</td>\n",
       "      <td>74</td>\n",
       "      <td>Belgium</td>\n",
       "      <td>Real Madrid</td>\n",
       "    </tr>\n",
       "  </tbody>\n",
       "</table>\n",
       "</div>"
      ],
      "text/plain": [
       "                                             long_name  age         dob  \\\n",
       "short_name                                                                \n",
       "L. Messi                Lionel Andrés Messi Cuccittini   32  1987-06-24   \n",
       "Cristiano Ronaldo  Cristiano Ronaldo dos Santos Aveiro   34  1985-02-05   \n",
       "Neymar Jr                Neymar da Silva Santos Junior   27  1992-02-05   \n",
       "J. Oblak                                     Jan Oblak   26  1993-01-07   \n",
       "E. Hazard                                  Eden Hazard   28  1991-01-07   \n",
       "\n",
       "                   height_cm  weight_kg nationality                 club  \n",
       "short_name                                                                \n",
       "L. Messi                 170         72   Argentina         FC Barcelona  \n",
       "Cristiano Ronaldo        187         83    Portugal             Juventus  \n",
       "Neymar Jr                175         68      Brazil  Paris Saint-Germain  \n",
       "J. Oblak                 188         87    Slovenia      Atlético Madrid  \n",
       "E. Hazard                175         74     Belgium          Real Madrid  "
      ]
     },
     "execution_count": 3,
     "metadata": {},
     "output_type": "execute_result"
    }
   ],
   "source": [
    "# showing dataframe\n",
    "df.head()"
   ]
  },
  {
   "cell_type": "markdown",
   "id": "f61b226e-429a-4190-b644-1dd7d699bbe4",
   "metadata": {},
   "source": [
    "# 1. Lambda function"
   ]
  },
  {
   "cell_type": "code",
   "execution_count": 11,
   "id": "28e14322-b961-473f-b0a9-3257cde3ead0",
   "metadata": {},
   "outputs": [],
   "source": [
    "# basic function\n",
    "def sum_values(a,b):\n",
    "    x = a + b\n",
    "    return x"
   ]
  },
  {
   "cell_type": "code",
   "execution_count": 12,
   "id": "a9a5e83e-fbde-467c-bebc-8ea9fbde2ea6",
   "metadata": {},
   "outputs": [
    {
     "data": {
      "text/plain": [
       "5"
      ]
     },
     "execution_count": 12,
     "metadata": {},
     "output_type": "execute_result"
    }
   ],
   "source": [
    "sum_values(2,3)"
   ]
  },
  {
   "cell_type": "code",
   "execution_count": 13,
   "id": "ec718977-4fdb-41b7-8693-5da4b8b993a9",
   "metadata": {},
   "outputs": [],
   "source": [
    "# lambda function (one liner)\n",
    "sum_values_lambda = lambda a, b: a + b\n",
    "\n",
    "# <name_of_function> = <lambda keyword> <input>: <output> the output is the operation we want to perform"
   ]
  },
  {
   "cell_type": "code",
   "execution_count": 7,
   "id": "e2a07678-89e7-4e02-9a69-08b78239c6e3",
   "metadata": {},
   "outputs": [],
   "source": [
    "# So this lambda function is supposed to get two values and return the sum of them"
   ]
  },
  {
   "cell_type": "code",
   "execution_count": 14,
   "id": "5e87e7ec-dc01-424e-b429-7d23175c8949",
   "metadata": {},
   "outputs": [
    {
     "data": {
      "text/plain": [
       "<function __main__.<lambda>(a, b)>"
      ]
     },
     "execution_count": 14,
     "metadata": {},
     "output_type": "execute_result"
    }
   ],
   "source": [
    "sum_values_lambda"
   ]
  },
  {
   "cell_type": "code",
   "execution_count": 15,
   "id": "23e46569-3944-4748-b2fb-ecf29f148258",
   "metadata": {},
   "outputs": [
    {
     "data": {
      "text/plain": [
       "5"
      ]
     },
     "execution_count": 15,
     "metadata": {},
     "output_type": "execute_result"
    }
   ],
   "source": [
    "sum_values_lambda(2,3)"
   ]
  },
  {
   "cell_type": "code",
   "execution_count": 16,
   "id": "6d7175c7-41c4-4d37-a70d-17c339d9ac89",
   "metadata": {},
   "outputs": [],
   "source": [
    "# So we created this lambda function which is equivalent to the basic function"
   ]
  },
  {
   "cell_type": "markdown",
   "id": "85b86a75-f1b3-457d-9299-faf8cf453d5f",
   "metadata": {},
   "source": [
    "The lambda function is useful when we want to create a temporary function. So a function that we're going to use only once\\\n",
    "and then we're not going to use it anymore. So that's one of the cases when we use the lambda function over the average function.\n"
   ]
  },
  {
   "cell_type": "markdown",
   "id": "183b4c30-aef2-497f-a73e-669d04f2a8ce",
   "metadata": {},
   "source": [
    "# 2. Apply + Lambda Function"
   ]
  },
  {
   "cell_type": "code",
   "execution_count": 17,
   "id": "80f0fae3-8245-4bfd-8897-dbde7847a19b",
   "metadata": {},
   "outputs": [
    {
     "data": {
      "text/plain": [
       "short_name\n",
       "L. Messi             1.70\n",
       "Cristiano Ronaldo    1.87\n",
       "Neymar Jr            1.75\n",
       "J. Oblak             1.88\n",
       "E. Hazard            1.75\n",
       "                     ... \n",
       "Shao Shuai           1.86\n",
       "Xiao Mingjie         1.77\n",
       "Zhang Wei            1.86\n",
       "Wang Haijian         1.85\n",
       "Pan Ximing           1.82\n",
       "Name: height_cm, Length: 18278, dtype: float64"
      ]
     },
     "execution_count": 17,
     "metadata": {},
     "output_type": "execute_result"
    }
   ],
   "source": [
    "# Using lambda function to convert \"height_cm\" series to meters\n",
    "df['height_cm'].apply(lambda x: x/100)\n",
    "\n",
    "# and this x represents one row of the \"height_cm\" series"
   ]
  },
  {
   "cell_type": "code",
   "execution_count": 18,
   "id": "e2d97fac-50da-4c9c-844d-6e5e5c36bca6",
   "metadata": {},
   "outputs": [],
   "source": [
    "# and now we have the height but in meters."
   ]
  },
  {
   "cell_type": "code",
   "execution_count": 19,
   "id": "24beb3ef-d91b-4b5a-961c-c31fcbb7cc44",
   "metadata": {},
   "outputs": [
    {
     "data": {
      "text/plain": [
       "short_name\n",
       "L. Messi             1.70\n",
       "Cristiano Ronaldo    1.87\n",
       "Neymar Jr            1.75\n",
       "J. Oblak             1.88\n",
       "E. Hazard            1.75\n",
       "                     ... \n",
       "Shao Shuai           1.86\n",
       "Xiao Mingjie         1.77\n",
       "Zhang Wei            1.86\n",
       "Wang Haijian         1.85\n",
       "Pan Ximing           1.82\n",
       "Name: height_cm, Length: 18278, dtype: float64"
      ]
     },
     "execution_count": 19,
     "metadata": {},
     "output_type": "execute_result"
    }
   ],
   "source": [
    "# alternative to achieve the same task without the apply() method:\n",
    "df['height_cm']/100"
   ]
  },
  {
   "cell_type": "code",
   "execution_count": 20,
   "id": "7c3f8779-7875-495b-9355-dd6a4f1a4e03",
   "metadata": {},
   "outputs": [],
   "source": [
    "# and as we can see, we got the same results."
   ]
  },
  {
   "cell_type": "code",
   "execution_count": 24,
   "id": "93375fbd-49b4-44b4-a08f-d37e52926fa2",
   "metadata": {},
   "outputs": [
    {
     "data": {
      "text/plain": [
       "short_name\n",
       "L. Messi                  LIONEL ANDRÉS MESSI CUCCITTINI\n",
       "Cristiano Ronaldo    CRISTIANO RONALDO DOS SANTOS AVEIRO\n",
       "Neymar Jr                  NEYMAR DA SILVA SANTOS JUNIOR\n",
       "J. Oblak                                       JAN OBLAK\n",
       "E. Hazard                                    EDEN HAZARD\n",
       "                                    ...                 \n",
       "Shao Shuai                                            邵帅\n",
       "Xiao Mingjie                                MINGJIE XIAO\n",
       "Zhang Wei                                             张威\n",
       "Wang Haijian                                         汪海健\n",
       "Pan Ximing                                           潘喜明\n",
       "Name: long_name, Length: 18278, dtype: object"
      ]
     },
     "execution_count": 24,
     "metadata": {},
     "output_type": "execute_result"
    }
   ],
   "source": [
    "# Using lambda function to convert \"long_name\" series to upper case\n",
    "df['long_name'].apply(lambda x: x.upper())\n",
    "\n",
    "# x represents one element of this df['long_name'] series. \n",
    "# va recorriendo el vector y a cada componente, que es una string, le aplica el metodo .upper()"
   ]
  },
  {
   "cell_type": "code",
   "execution_count": 22,
   "id": "4e565ee0-00bd-459a-b161-d364afc59089",
   "metadata": {},
   "outputs": [],
   "source": [
    "# and now, as we can see in the result, the names are in uppercase"
   ]
  },
  {
   "cell_type": "code",
   "execution_count": 25,
   "id": "b80f3cca-1499-430a-9876-871d4b833c95",
   "metadata": {},
   "outputs": [
    {
     "data": {
      "text/plain": [
       "short_name\n",
       "L. Messi                  LIONEL ANDRÉS MESSI CUCCITTINI\n",
       "Cristiano Ronaldo    CRISTIANO RONALDO DOS SANTOS AVEIRO\n",
       "Neymar Jr                  NEYMAR DA SILVA SANTOS JUNIOR\n",
       "J. Oblak                                       JAN OBLAK\n",
       "E. Hazard                                    EDEN HAZARD\n",
       "                                    ...                 \n",
       "Shao Shuai                                            邵帅\n",
       "Xiao Mingjie                                MINGJIE XIAO\n",
       "Zhang Wei                                             张威\n",
       "Wang Haijian                                         汪海健\n",
       "Pan Ximing                                           潘喜明\n",
       "Name: long_name, Length: 18278, dtype: object"
      ]
     },
     "execution_count": 25,
     "metadata": {},
     "output_type": "execute_result"
    }
   ],
   "source": [
    "# alternative with str attribute\n",
    "df['long_name'].str.upper()\n",
    "\n",
    "# with .str we access to the string attribute, and then we can apply the .upper() method"
   ]
  },
  {
   "cell_type": "code",
   "execution_count": 26,
   "id": "5fe48722-b9e6-41c0-947e-b69b56544706",
   "metadata": {},
   "outputs": [],
   "source": [
    "# and here we can see that we got the full name in uppercase."
   ]
  },
  {
   "cell_type": "code",
   "execution_count": 27,
   "id": "319497aa-af2b-4051-b5ab-1b6fc799c947",
   "metadata": {},
   "outputs": [
    {
     "data": {
      "text/plain": [
       "long_name      object\n",
       "age             int64\n",
       "dob            object\n",
       "height_cm       int64\n",
       "weight_kg       int64\n",
       "nationality    object\n",
       "club           object\n",
       "dtype: object"
      ]
     },
     "execution_count": 27,
     "metadata": {},
     "output_type": "execute_result"
    }
   ],
   "source": [
    "df.dtypes"
   ]
  },
  {
   "cell_type": "code",
   "execution_count": 29,
   "id": "ae8f3ad5-7968-44f0-8ba8-a604e46a884a",
   "metadata": {},
   "outputs": [
    {
     "data": {
      "text/plain": [
       "long_name              object\n",
       "age                     int64\n",
       "dob            datetime64[ns]\n",
       "height_cm               int64\n",
       "weight_kg               int64\n",
       "nationality            object\n",
       "club                   object\n",
       "dtype: object"
      ]
     },
     "execution_count": 29,
     "metadata": {},
     "output_type": "execute_result"
    }
   ],
   "source": [
    "# 'dob' is an object data type, we should convert this data type into a\n",
    "# datetime by using the astype() method\n",
    "df['dob'] = df['dob'].astype('datetime64[ns]')\n",
    "df.dtypes"
   ]
  },
  {
   "cell_type": "code",
   "execution_count": 30,
   "id": "720e2a98-d5ae-4c66-acd0-67c25ef0c8b7",
   "metadata": {},
   "outputs": [],
   "source": [
    "# and now this is a datetime type, and we can extract the year"
   ]
  },
  {
   "cell_type": "code",
   "execution_count": 32,
   "id": "34189cf5-0b6d-44f4-9158-38156fb58fb2",
   "metadata": {},
   "outputs": [
    {
     "data": {
      "text/plain": [
       "short_name\n",
       "L. Messi             1987\n",
       "Cristiano Ronaldo    1985\n",
       "Neymar Jr            1992\n",
       "J. Oblak             1993\n",
       "E. Hazard            1991\n",
       "                     ... \n",
       "Shao Shuai           1997\n",
       "Xiao Mingjie         1997\n",
       "Zhang Wei            2000\n",
       "Wang Haijian         2000\n",
       "Pan Ximing           1993\n",
       "Name: dob, Length: 18278, dtype: int64"
      ]
     },
     "execution_count": 32,
     "metadata": {},
     "output_type": "execute_result"
    }
   ],
   "source": [
    "# Using the lambda function to get the year of the \"dob\" series\n",
    "df['dob'].apply(lambda x: x.year)"
   ]
  },
  {
   "cell_type": "code",
   "execution_count": 33,
   "id": "de5e2652-ce8e-4283-a888-c5780c4e3e81",
   "metadata": {},
   "outputs": [],
   "source": [
    "# and as we can see in the result, we got only the year. So for example,\n",
    "# Messi was born in 1987, Ronaldo in 1985, Neymar in 1992, and so on.."
   ]
  },
  {
   "cell_type": "code",
   "execution_count": 34,
   "id": "44a87d66-1a5a-490b-858e-64064a48098e",
   "metadata": {},
   "outputs": [
    {
     "data": {
      "text/plain": [
       "short_name\n",
       "L. Messi             1987\n",
       "Cristiano Ronaldo    1985\n",
       "Neymar Jr            1992\n",
       "J. Oblak             1993\n",
       "E. Hazard            1991\n",
       "                     ... \n",
       "Shao Shuai           1997\n",
       "Xiao Mingjie         1997\n",
       "Zhang Wei            2000\n",
       "Wang Haijian         2000\n",
       "Pan Ximing           1993\n",
       "Name: dob, Length: 18278, dtype: int32"
      ]
     },
     "execution_count": 34,
     "metadata": {},
     "output_type": "execute_result"
    }
   ],
   "source": [
    "# alternative with dt attribute\n",
    "df['dob'].dt.year"
   ]
  },
  {
   "cell_type": "code",
   "execution_count": 35,
   "id": "90f7b82d-6034-4b2d-9db8-1b7659f41501",
   "metadata": {},
   "outputs": [
    {
     "data": {
      "text/plain": [
       "short_name\n",
       "L. Messi             24.913495\n",
       "Cristiano Ronaldo    23.735308\n",
       "Neymar Jr            22.204082\n",
       "J. Oblak             24.615211\n",
       "E. Hazard            24.163265\n",
       "                       ...    \n",
       "Shao Shuai           22.835010\n",
       "Xiao Mingjie         21.066743\n",
       "Zhang Wei            21.678807\n",
       "Wang Haijian         21.621622\n",
       "Pan Ximing           23.547881\n",
       "Length: 18278, dtype: float64"
      ]
     },
     "execution_count": 35,
     "metadata": {},
     "output_type": "execute_result"
    }
   ],
   "source": [
    "# applying lambda function to a dataframe in order to calculate bmi\n",
    "df.apply(lambda x: x['weight_kg']/ ((x['height_cm']/100)**2), axis=1)"
   ]
  },
  {
   "cell_type": "code",
   "execution_count": 36,
   "id": "54781bd5-b203-4fe9-9043-c8f4a3737fc5",
   "metadata": {},
   "outputs": [],
   "source": [
    "# and here we got the BMI of each player.\n",
    "\n",
    "# And that's how the lambda function can be used with the apply() method."
   ]
  }
 ],
 "metadata": {
  "kernelspec": {
   "display_name": "Python 3 (ipykernel)",
   "language": "python",
   "name": "python3"
  },
  "language_info": {
   "codemirror_mode": {
    "name": "ipython",
    "version": 3
   },
   "file_extension": ".py",
   "mimetype": "text/x-python",
   "name": "python",
   "nbconvert_exporter": "python",
   "pygments_lexer": "ipython3",
   "version": "3.13.5"
  }
 },
 "nbformat": 4,
 "nbformat_minor": 5
}
