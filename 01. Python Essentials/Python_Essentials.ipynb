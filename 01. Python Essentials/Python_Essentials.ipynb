{
 "cells": [
  {
   "cell_type": "markdown",
   "id": "d0756226-6e17-40b2-a791-bc5cd20c9105",
   "metadata": {},
   "source": [
    "# Hello World!\n",
    "\n",
    "One of the typical ways to get started with a programming language is printing a simple message.\\\n",
    "You can write any message, but it's traditional among coders to start with a \"Hello World\", so let's try it."
   ]
  },
  {
   "cell_type": "code",
   "execution_count": 5,
   "id": "9b968add-43b5-48b4-aed6-2a7e19252cb2",
   "metadata": {},
   "outputs": [
    {
     "name": "stdout",
     "output_type": "stream",
     "text": [
      "Hello world!\n"
     ]
    }
   ],
   "source": [
    "print(\"Hello world!\")"
   ]
  },
  {
   "cell_type": "markdown",
   "id": "d0f3ee11-4cdb-48ec-b891-d8af9b85825b",
   "metadata": {},
   "source": [
    "Unlike most Python text editors, Jupyter Notebook allow sus to print the last object in code cell without\\\n",
    "specifying the print function"
   ]
  },
  {
   "cell_type": "code",
   "execution_count": 1,
   "id": "ba010fc8-3c14-4422-b179-9a74c23f0508",
   "metadata": {},
   "outputs": [
    {
     "data": {
      "text/plain": [
       "'Hello World!'"
      ]
     },
     "execution_count": 1,
     "metadata": {},
     "output_type": "execute_result"
    }
   ],
   "source": [
    "\"Hello World!\""
   ]
  },
  {
   "cell_type": "markdown",
   "id": "2f93c827-89ff-455b-a0ba-aeb5e032c012",
   "metadata": {},
   "source": [
    "# Data Types\n",
    "\n",
    "Every value in Python is an object. An object has different data types. The most comon data types in Python\\\n",
    "are the following\n",
    "\n",
    "## Integer and Float\n",
    "\n",
    "Integer (int): Numbers that can be written without a fractional component."
   ]
  },
  {
   "cell_type": "code",
   "execution_count": 2,
   "id": "fdbeb250-0ac9-4e91-a81b-a014bcfec01f",
   "metadata": {},
   "outputs": [
    {
     "data": {
      "text/plain": [
       "int"
      ]
     },
     "execution_count": 2,
     "metadata": {},
     "output_type": "execute_result"
    }
   ],
   "source": [
    "# To check the data type, we can use the type function\n",
    "type(9)"
   ]
  },
  {
   "cell_type": "markdown",
   "id": "6a3daffd-3a54-49d0-b244-13541e8a7a6d",
   "metadata": {},
   "source": [
    "Float (float): Numbers that contain floating decimal points."
   ]
  },
  {
   "cell_type": "code",
   "execution_count": 8,
   "id": "bffe0e0d-abad-46d5-886c-79d79bcf00cd",
   "metadata": {},
   "outputs": [
    {
     "data": {
      "text/plain": [
       "float"
      ]
     },
     "execution_count": 8,
     "metadata": {},
     "output_type": "execute_result"
    }
   ],
   "source": [
    "type(2.4)"
   ]
  },
  {
   "cell_type": "markdown",
   "id": "5581fac3-cce0-425d-bf2b-2fb1af187074",
   "metadata": {},
   "source": [
    "## Math Operators\n",
    "Just like on Excel, you can perform math operations in Python. Let's see the most common operators used in Python\n",
    "\n",
    "* Addition: +\n",
    "* Subtraction: -\n",
    "* Multiplication: *\n",
    "* Division: /\n",
    "* Exponent: **\n",
    "* Remainder: %\n",
    "* Integer division: //"
   ]
  },
  {
   "cell_type": "code",
   "execution_count": 3,
   "id": "822cb215-8506-480e-b7e1-8bac487e26f7",
   "metadata": {},
   "outputs": [
    {
     "data": {
      "text/plain": [
       "1080000"
      ]
     },
     "execution_count": 3,
     "metadata": {},
     "output_type": "execute_result"
    }
   ],
   "source": [
    "540000 + 540000"
   ]
  },
  {
   "cell_type": "code",
   "execution_count": 4,
   "id": "5d9f7f69-b036-407d-b151-00a01759bd93",
   "metadata": {},
   "outputs": [
    {
     "data": {
      "text/plain": [
       "9"
      ]
     },
     "execution_count": 4,
     "metadata": {},
     "output_type": "execute_result"
    }
   ],
   "source": [
    "3 ** 2"
   ]
  },
  {
   "cell_type": "markdown",
   "id": "1f3e3452-23c4-4e7e-9f28-c8d28b8d6165",
   "metadata": {},
   "source": [
    "## Boolean\n",
    "\n",
    "Boolean (bool): True/False values"
   ]
  },
  {
   "cell_type": "code",
   "execution_count": 10,
   "id": "0fbe6439-9997-4fb3-8d28-4fc26b610e9c",
   "metadata": {},
   "outputs": [
    {
     "data": {
      "text/plain": [
       "bool"
      ]
     },
     "execution_count": 10,
     "metadata": {},
     "output_type": "execute_result"
    }
   ],
   "source": [
    "type(True)"
   ]
  },
  {
   "cell_type": "markdown",
   "id": "6014012c-4365-498e-917f-b7008ce760ef",
   "metadata": {},
   "source": [
    "## String\n",
    "\n",
    "String (str): A string represents a series of characters. In Python, anything inside quotes (single quotes or double-quotes) is a string."
   ]
  },
  {
   "cell_type": "code",
   "execution_count": 11,
   "id": "a43841f0-8751-47ed-ae8c-a55748bf1fd9",
   "metadata": {},
   "outputs": [
    {
     "data": {
      "text/plain": [
       "str"
      ]
     },
     "execution_count": 11,
     "metadata": {},
     "output_type": "execute_result"
    }
   ],
   "source": [
    "type(\"Hello world\")"
   ]
  },
  {
   "cell_type": "markdown",
   "id": "4c269a5b-2a3d-44c0-81c4-bcd6cd312789",
   "metadata": {},
   "source": [
    "### String Methods\n",
    "\n",
    "We can apply different functions to strings as we would do in Excel. However in Python we use methods. A method is a function that \"belongs to\" an object. To call a method we use the \".\" sign after the object.  Let's see some string methods to change the case of text."
   ]
  },
  {
   "cell_type": "code",
   "execution_count": 6,
   "id": "fb5376e8-925e-4a34-9517-331f2c90ddd7",
   "metadata": {},
   "outputs": [
    {
     "name": "stdout",
     "output_type": "stream",
     "text": [
      "HELLO WORLD\n",
      "hello world\n",
      "Hello World\n"
     ]
    }
   ],
   "source": [
    "# change case of text\n",
    "print(\"Hello world\".upper())\n",
    "print(\"Hello world\".lower())\n",
    "print(\"hello world\".title())"
   ]
  },
  {
   "cell_type": "code",
   "execution_count": 7,
   "id": "1931d5ff-18aa-4104-86ff-74c4a397de43",
   "metadata": {},
   "outputs": [
    {
     "name": "stdout",
     "output_type": "stream",
     "text": [
      "3\n"
     ]
    }
   ],
   "source": [
    "# count letters\n",
    "print(\"hello world\".count('l'))"
   ]
  },
  {
   "cell_type": "code",
   "execution_count": 8,
   "id": "0e6c7b3a-f6ab-4846-8e78-dac260aff11e",
   "metadata": {},
   "outputs": [
    {
     "name": "stdout",
     "output_type": "stream",
     "text": [
      "Hellu Wurld\n"
     ]
    }
   ],
   "source": [
    "# replace string letters\n",
    "print(\"Hello World\".replace('o','u'))"
   ]
  },
  {
   "cell_type": "markdown",
   "id": "133578cf-9f48-4f32-8f2d-679f5ac859ef",
   "metadata": {},
   "source": [
    "## Variables\n",
    "\n",
    "Variables helps us store data values. In Python, we often work with data, so variables are useful to manage this data properly. A variable contains a value, which is the information associated with a variable. To assign a value to a variable, we use the =.\n",
    "\n",
    "Let's create a message that says \"I'm practicing Python\" and store it in a variable called message_1."
   ]
  },
  {
   "cell_type": "code",
   "execution_count": 9,
   "id": "89227ce4-9378-4ecd-87b1-ef06c9283414",
   "metadata": {},
   "outputs": [],
   "source": [
    "message_1 = \"I'm practicing Python\""
   ]
  },
  {
   "cell_type": "markdown",
   "id": "61792790-f4c2-4691-b3cc-e0d321af9e90",
   "metadata": {},
   "source": [
    "Typing the variable name we can obtain the message (print its value)"
   ]
  },
  {
   "cell_type": "code",
   "execution_count": 10,
   "id": "e86b0bd4-544b-4ec2-8916-43e00d823470",
   "metadata": {},
   "outputs": [
    {
     "data": {
      "text/plain": [
       "\"I'm practicing Python\""
      ]
     },
     "execution_count": 10,
     "metadata": {},
     "output_type": "execute_result"
    }
   ],
   "source": [
    "message_1"
   ]
  },
  {
   "cell_type": "code",
   "execution_count": 11,
   "id": "ea09978e-aee6-4533-9baa-a80d8539099b",
   "metadata": {},
   "outputs": [],
   "source": [
    "message_2 = \"and it's fun!\""
   ]
  },
  {
   "cell_type": "code",
   "execution_count": 12,
   "id": "82599350-7b2b-45d4-a52e-846f47149e02",
   "metadata": {},
   "outputs": [
    {
     "data": {
      "text/plain": [
       "\"and it's fun!\""
      ]
     },
     "execution_count": 12,
     "metadata": {},
     "output_type": "execute_result"
    }
   ],
   "source": [
    "message_2 "
   ]
  },
  {
   "cell_type": "markdown",
   "id": "b08ad5d2-8336-464f-9533-8f15a06f12a2",
   "metadata": {},
   "source": [
    "## String Concatenation\n",
    "\n",
    "We can put message_1 and message_2 together by using the + operator. This is called string concatenation."
   ]
  },
  {
   "cell_type": "code",
   "execution_count": 13,
   "id": "670f26bb-210e-44ab-b019-50d03b1f192e",
   "metadata": {},
   "outputs": [
    {
     "data": {
      "text/plain": [
       "\"I'm practicing Python and it's fun!\""
      ]
     },
     "execution_count": 13,
     "metadata": {},
     "output_type": "execute_result"
    }
   ],
   "source": [
    "message = message_1 + \" \" + message_2\n",
    "message"
   ]
  },
  {
   "cell_type": "code",
   "execution_count": 15,
   "id": "4bc1c418-c1a4-4689-9f50-e79676c66f5c",
   "metadata": {},
   "outputs": [],
   "source": [
    "# one possible way to do this is using format: print(f\"{message_1} {message_2}\")"
   ]
  },
  {
   "cell_type": "markdown",
   "id": "749d129b-c335-4840-aae5-38afd2fb4423",
   "metadata": {},
   "source": [
    "# Lists\n",
    "\n",
    "In Python, lists are used to store multiple items in a single variable. Lists are ordered and mutable containers. In Python, we call 'mutable' to objects that can change their values. That is, elements within a list can change their value.\n",
    "\n",
    "To create a list, we have to introduce the elements inside square brackets ([ ]), separated by commas. Consider the following list named \"countries\" that contains some of the countries with the largest population around the world."
   ]
  },
  {
   "cell_type": "code",
   "execution_count": 17,
   "id": "e5ffe0f8-0e76-44dc-8f9f-21ed42692e6f",
   "metadata": {},
   "outputs": [
    {
     "data": {
      "text/plain": [
       "['United States', 'Argentina', 'India', 'China', 'Brazil']"
      ]
     },
     "execution_count": 17,
     "metadata": {},
     "output_type": "execute_result"
    }
   ],
   "source": [
    "countries = [\"United States\",\"Argentina\",\"India\",\"China\",\"Brazil\"]\n",
    "countries"
   ]
  },
  {
   "cell_type": "markdown",
   "id": "265ddbdc-25ab-48b3-9435-fcc2dc78d712",
   "metadata": {},
   "source": [
    "## Indexing\n",
    "\n",
    "By indexing we can obtain a list item or element by its position. Each item in a list has an index (position in the list). Python uses zero-based indexing. That is, the first element (\"United States\") has an index 0, the second(\"India\") has index 1, and so on.\n",
    "\n",
    "To access an element by its index we need to use square brackets []. Let's see some examples:"
   ]
  },
  {
   "cell_type": "code",
   "execution_count": 18,
   "id": "3d4a5443-e903-4883-8ee2-ecb04ac5d351",
   "metadata": {},
   "outputs": [
    {
     "name": "stdout",
     "output_type": "stream",
     "text": [
      "United States\n",
      "Argentina\n",
      "India\n",
      "China\n"
     ]
    }
   ],
   "source": [
    "print(countries[0])\n",
    "print(countries[1])\n",
    "print(countries[2])\n",
    "print(countries[3])"
   ]
  },
  {
   "cell_type": "code",
   "execution_count": 19,
   "id": "e6214d31-42aa-4ed1-871f-4fb684a80d6b",
   "metadata": {},
   "outputs": [
    {
     "data": {
      "text/plain": [
       "'Brazil'"
      ]
     },
     "execution_count": 19,
     "metadata": {},
     "output_type": "execute_result"
    }
   ],
   "source": [
    "countries[-1]\n",
    "# the first element starting from the last position"
   ]
  },
  {
   "cell_type": "markdown",
   "id": "b30ef524-5768-4430-9e42-c196f5e12d90",
   "metadata": {},
   "source": [
    "## Slicing\n",
    "\n",
    "Slicing means accessing parts of a list. A slice is a subset of list elements. Slice notation takes the form of:\n",
    "\n",
    "list_name[start:stop]\n",
    "\n",
    "where \"start\" represents the index of the first element, and stop represents the element to stop at (without including it in the slice)."
   ]
  },
  {
   "cell_type": "code",
   "execution_count": 20,
   "id": "f73d685c-2883-43b7-adf6-8e55ff97f590",
   "metadata": {},
   "outputs": [
    {
     "data": {
      "text/plain": [
       "['United States', 'Argentina', 'India']"
      ]
     },
     "execution_count": 20,
     "metadata": {},
     "output_type": "execute_result"
    }
   ],
   "source": [
    "countries[0:3]"
   ]
  },
  {
   "cell_type": "code",
   "execution_count": 21,
   "id": "eef5579c-cc7a-430a-a9fe-7038c002f247",
   "metadata": {},
   "outputs": [
    {
     "data": {
      "text/plain": [
       "['Argentina', 'India', 'China', 'Brazil']"
      ]
     },
     "execution_count": 21,
     "metadata": {},
     "output_type": "execute_result"
    }
   ],
   "source": [
    "countries[1:]"
   ]
  },
  {
   "cell_type": "code",
   "execution_count": 22,
   "id": "ca7a0976-2abd-4de9-899a-2ffbbdbe9a04",
   "metadata": {},
   "outputs": [
    {
     "data": {
      "text/plain": [
       "['United States', 'Argentina']"
      ]
     },
     "execution_count": 22,
     "metadata": {},
     "output_type": "execute_result"
    }
   ],
   "source": [
    "countries[:2]"
   ]
  },
  {
   "cell_type": "markdown",
   "id": "70e711de-2dff-404d-8490-086c7e3101b8",
   "metadata": {},
   "source": [
    "## List Operations and Methods\n",
    "\n",
    "There are a lot of things you can do with lists. You can add new elements, remove any element, update values, and so on. In this. section, we will see the most common list operation and methods\n",
    "\n",
    "### Adding elements to a list\n",
    "\n",
    "There are different methods that helps us add a new element to a list. Let's have a look."
   ]
  },
  {
   "cell_type": "code",
   "execution_count": 26,
   "id": "a294982c-1d1d-4860-9bea-4189e7805da2",
   "metadata": {},
   "outputs": [
    {
     "data": {
      "text/plain": [
       "['United States', 'Argentina', 'India', 'China', 'Brazil', 'England']"
      ]
     },
     "execution_count": 26,
     "metadata": {},
     "output_type": "execute_result"
    }
   ],
   "source": [
    "# append: Adds a new element to a list\n",
    "countries = [\"United States\",\"Argentina\",\"India\",\"China\",\"Brazil\"]\n",
    "countries.append(\"England\")\n",
    "countries"
   ]
  },
  {
   "cell_type": "code",
   "execution_count": 27,
   "id": "98debfef-947b-4763-9ba9-94a6da73dce4",
   "metadata": {},
   "outputs": [
    {
     "data": {
      "text/plain": [
       "['Spain', 'United States', 'Argentina', 'India', 'China', 'Brazil', 'England']"
      ]
     },
     "execution_count": 27,
     "metadata": {},
     "output_type": "execute_result"
    }
   ],
   "source": [
    "# insert: Adds a new element at a specific position\n",
    "countries.insert(0, \"Spain\")\n",
    "countries"
   ]
  },
  {
   "cell_type": "code",
   "execution_count": 28,
   "id": "0a2e00a4-44f3-4e2a-b2e9-1fd8c0b2cd7d",
   "metadata": {},
   "outputs": [
    {
     "data": {
      "text/plain": [
       "['Spain',\n",
       " 'United States',\n",
       " 'Argentina',\n",
       " 'India',\n",
       " 'China',\n",
       " 'Brazil',\n",
       " 'England',\n",
       " 'UK',\n",
       " 'Germany',\n",
       " 'Austria']"
      ]
     },
     "execution_count": 28,
     "metadata": {},
     "output_type": "execute_result"
    }
   ],
   "source": [
    "# joining lists using the + operator\n",
    "countries_2 = [\"UK\",\"Germany\",\"Austria\"]\n",
    "countries + countries_2"
   ]
  },
  {
   "cell_type": "markdown",
   "id": "5bd38566-1f08-4db2-88f1-08e228640c1e",
   "metadata": {},
   "source": [
    "We can put the list countries and countries_2 inside another list, which is called nested lists."
   ]
  },
  {
   "cell_type": "code",
   "execution_count": 29,
   "id": "d088d59d-11aa-4bf4-9a4f-6900c1556bfc",
   "metadata": {},
   "outputs": [
    {
     "data": {
      "text/plain": [
       "[['Spain',\n",
       "  'United States',\n",
       "  'Argentina',\n",
       "  'India',\n",
       "  'China',\n",
       "  'Brazil',\n",
       "  'England'],\n",
       " ['UK', 'Germany', 'Austria']]"
      ]
     },
     "execution_count": 29,
     "metadata": {},
     "output_type": "execute_result"
    }
   ],
   "source": [
    "nested_list = [countries, countries_2]\n",
    "nested_list"
   ]
  },
  {
   "cell_type": "markdown",
   "id": "9c835ce3-ac6a-4c0e-b45b-bb11c4f3d9b3",
   "metadata": {},
   "source": [
    "### Remove an element\n",
    "\n",
    "There are different methods that helps us remove an element from a list."
   ]
  },
  {
   "cell_type": "code",
   "execution_count": 33,
   "id": "a27e13b0-1bcf-4eee-b7d7-4fe84df7edf6",
   "metadata": {},
   "outputs": [
    {
     "name": "stdout",
     "output_type": "stream",
     "text": [
      "['United States', 'Argentina', 'India', 'China', 'Brazil']\n"
     ]
    }
   ],
   "source": [
    "countries = [\"United States\",\"Argentina\",\"India\",\"China\",\"Brazil\"]\n",
    "print(countries)"
   ]
  },
  {
   "cell_type": "code",
   "execution_count": 34,
   "id": "81b00f61-d995-48a4-93bf-7db62ff6f117",
   "metadata": {},
   "outputs": [
    {
     "name": "stdout",
     "output_type": "stream",
     "text": [
      "['United States', 'Argentina', 'India', 'Brazil']\n"
     ]
    }
   ],
   "source": [
    "# .remove() Removes the first matching value\n",
    "countries.remove(\"China\")\n",
    "print(countries)"
   ]
  },
  {
   "cell_type": "code",
   "execution_count": 35,
   "id": "c428e493-db61-4298-b460-0f9078d23a4d",
   "metadata": {},
   "outputs": [
    {
     "data": {
      "text/plain": [
       "'United States'"
      ]
     },
     "execution_count": 35,
     "metadata": {},
     "output_type": "execute_result"
    }
   ],
   "source": [
    "# .pop(): Removes an item at an specific index and then returns it.\n",
    "countries.pop(0)"
   ]
  },
  {
   "cell_type": "code",
   "execution_count": 37,
   "id": "d76756f1-e9e8-4ff8-9858-80326dfb102a",
   "metadata": {},
   "outputs": [
    {
     "data": {
      "text/plain": [
       "['Argentina', 'India', 'Brazil']"
      ]
     },
     "execution_count": 37,
     "metadata": {},
     "output_type": "execute_result"
    }
   ],
   "source": [
    "# it returns the element that it removed\n",
    "countries"
   ]
  },
  {
   "cell_type": "code",
   "execution_count": 38,
   "id": "f98426ed-83c1-4616-98b0-04e8c16d4eda",
   "metadata": {},
   "outputs": [],
   "source": [
    "# del: removes an item at an specific index\n",
    "del countries[0]\n",
    "# it does not return the element that I get rid off"
   ]
  },
  {
   "cell_type": "code",
   "execution_count": 39,
   "id": "9a2d17cd-d8fb-459e-a70b-5eab16195728",
   "metadata": {},
   "outputs": [
    {
     "data": {
      "text/plain": [
       "['India', 'Brazil']"
      ]
     },
     "execution_count": 39,
     "metadata": {},
     "output_type": "execute_result"
    }
   ],
   "source": [
    "countries"
   ]
  },
  {
   "cell_type": "markdown",
   "id": "83254ef1-c2f3-43dd-8878-b9d8f19d3c97",
   "metadata": {},
   "source": [
    "### Sorting a list\n",
    "\n",
    "We can easily sort a list using the .sort() method. Let's create a new list called numbers and then sort it from the smallest to largest number."
   ]
  },
  {
   "cell_type": "code",
   "execution_count": 41,
   "id": "d602751f-e26a-4138-9136-ebe916319e5a",
   "metadata": {},
   "outputs": [
    {
     "data": {
      "text/plain": [
       "[1, 1, 3, 3, 4, 4, 4, 6, 9]"
      ]
     },
     "execution_count": 41,
     "metadata": {},
     "output_type": "execute_result"
    }
   ],
   "source": [
    "numbers = [4, 3, 1, 9, 4, 6, 1, 3, 4]\n",
    "numbers.sort()\n",
    "numbers"
   ]
  },
  {
   "cell_type": "markdown",
   "id": "e3ce8fd9-4c24-499c-b9f3-2a45a01438ba",
   "metadata": {},
   "source": [
    "\n",
    "We can add the reverse argument to the .sort() method to control the order. If we want it to be descendent we set reverse=True"
   ]
  },
  {
   "cell_type": "code",
   "execution_count": 42,
   "id": "ea41d9e8-805c-451e-a37d-8331557b760b",
   "metadata": {},
   "outputs": [
    {
     "data": {
      "text/plain": [
       "[9, 6, 4, 4, 4, 3, 3, 1, 1]"
      ]
     },
     "execution_count": 42,
     "metadata": {},
     "output_type": "execute_result"
    }
   ],
   "source": [
    "numbers = [4, 3, 1, 9, 4, 6, 1, 3, 4]\n",
    "numbers.sort(reverse=True)\n",
    "numbers"
   ]
  },
  {
   "cell_type": "markdown",
   "id": "4874ffb9-4f0a-4d78-b0fd-b72a06d4008a",
   "metadata": {},
   "source": [
    "### Update value on a list\n",
    "\n",
    "To update a value on a list we use indexing to locate the element we want to update and then set it to a new value using the = sign."
   ]
  },
  {
   "cell_type": "code",
   "execution_count": 66,
   "id": "052de858-1b97-43ab-aca7-8b3cb12de708",
   "metadata": {},
   "outputs": [
    {
     "data": {
      "text/plain": [
       "[10000, 6, 4, 4, 4, 3, 3, 1, 1]"
      ]
     },
     "execution_count": 66,
     "metadata": {},
     "output_type": "execute_result"
    }
   ],
   "source": [
    "numbers[0] = 10000\n",
    "numbers"
   ]
  },
  {
   "cell_type": "markdown",
   "id": "42dd7a21-fa29-4552-87b0-b6e601efc8f5",
   "metadata": {},
   "source": [
    "### Copying a list\n",
    "\n",
    "Whenever we need to make a copy of an existing list, we can use the following options:"
   ]
  },
  {
   "cell_type": "code",
   "execution_count": 43,
   "id": "e4f94506-5eaf-4c6e-a235-199831ef6707",
   "metadata": {},
   "outputs": [
    {
     "name": "stdout",
     "output_type": "stream",
     "text": [
      "['United States', 'Argentina', 'India', 'Brazil']\n",
      "['United States', 'Argentina', 'India', 'Brazil']\n"
     ]
    }
   ],
   "source": [
    "countries = [\"United States\", \"Argentina\", \"India\", \"Brazil\"]\n",
    "new_list = countries[:]\n",
    "print(new_list)\n",
    "new_list_2 = countries.copy()\n",
    "print(new_list_2)"
   ]
  },
  {
   "cell_type": "markdown",
   "id": "35a55790-3695-4697-bdba-1d409e1054c6",
   "metadata": {},
   "source": [
    "The [:] comes from the slicing technique. In this case, we didn't set neither a start nor a stop value, so the entire list is selected. On the other hand, the .copy() method explicitly makes a copy of a list."
   ]
  },
  {
   "cell_type": "markdown",
   "id": "0ec937fc-9355-41b7-9ff6-e478940c2ea2",
   "metadata": {},
   "source": [
    "# Dictionary\n",
    "\n",
    "In Python, dictionaries help us store data in key:value pairs (one pair is called an item). Like lists, dictionaries are mutable, but unlike lists, dictionaries are accessed via keys and duplicate keys are not allowed."
   ]
  },
  {
   "cell_type": "code",
   "execution_count": 44,
   "id": "444d8282-bc64-4d69-b8e1-6dcc7917c94d",
   "metadata": {},
   "outputs": [
    {
     "data": {
      "text/plain": [
       "{'key1': 'value1', 'key2': 'value2'}"
      ]
     },
     "execution_count": 44,
     "metadata": {},
     "output_type": "execute_result"
    }
   ],
   "source": [
    "my_dict = {'key1':'value1', 'key2':'value2'}\n",
    "my_dict"
   ]
  },
  {
   "cell_type": "code",
   "execution_count": 45,
   "id": "b24d47f4-9b5c-4278-a1ea-69382b72ee76",
   "metadata": {},
   "outputs": [
    {
     "data": {
      "text/plain": [
       "'Martín'"
      ]
     },
     "execution_count": 45,
     "metadata": {},
     "output_type": "execute_result"
    }
   ],
   "source": [
    "my_data = {'name':'Martín', 'age':29}\n",
    "my_data['name']"
   ]
  },
  {
   "cell_type": "code",
   "execution_count": 46,
   "id": "f4da3c65-7109-4ae8-8aa3-edbb47aa65fa",
   "metadata": {},
   "outputs": [
    {
     "data": {
      "text/plain": [
       "dict_keys(['name', 'age'])"
      ]
     },
     "execution_count": 46,
     "metadata": {},
     "output_type": "execute_result"
    }
   ],
   "source": [
    "my_data.keys()"
   ]
  },
  {
   "cell_type": "code",
   "execution_count": 47,
   "id": "ced5366a-cc62-45c7-94b5-4ba11d9382c9",
   "metadata": {},
   "outputs": [
    {
     "data": {
      "text/plain": [
       "dict_values(['Martín', 29])"
      ]
     },
     "execution_count": 47,
     "metadata": {},
     "output_type": "execute_result"
    }
   ],
   "source": [
    "my_data.values()"
   ]
  },
  {
   "cell_type": "code",
   "execution_count": 48,
   "id": "2d310505-df92-473f-ae66-ac068d906bb4",
   "metadata": {},
   "outputs": [
    {
     "data": {
      "text/plain": [
       "dict_items([('name', 'Martín'), ('age', 29)])"
      ]
     },
     "execution_count": 48,
     "metadata": {},
     "output_type": "execute_result"
    }
   ],
   "source": [
    "my_data.items()"
   ]
  },
  {
   "cell_type": "markdown",
   "id": "45c29e21-8f11-4034-bcd3-04554e4c7d03",
   "metadata": {},
   "source": [
    "## Add/update elements\n",
    "\n",
    "Similar to lists, we can add and update values in a dictionary. For example"
   ]
  },
  {
   "cell_type": "code",
   "execution_count": 49,
   "id": "083aa75e-ca97-4ab4-bf44-41791b334703",
   "metadata": {},
   "outputs": [],
   "source": [
    "my_data['height'] = 1.75"
   ]
  },
  {
   "cell_type": "code",
   "execution_count": 50,
   "id": "7c8d3b28-532c-4fc3-ab4d-3c93bd93c03c",
   "metadata": {},
   "outputs": [
    {
     "data": {
      "text/plain": [
       "{'name': 'Martín', 'age': 29, 'height': 1.75}"
      ]
     },
     "execution_count": 50,
     "metadata": {},
     "output_type": "execute_result"
    }
   ],
   "source": [
    "my_data"
   ]
  },
  {
   "cell_type": "code",
   "execution_count": 52,
   "id": "8e6fca62-6bce-4d12-a748-96ca8ba56011",
   "metadata": {},
   "outputs": [],
   "source": [
    "my_data.update({'height':1.8, 'languages':['English', 'Spanish']})"
   ]
  },
  {
   "cell_type": "code",
   "execution_count": 53,
   "id": "a04fdf38-5ede-4e05-9d90-57e51e566fb8",
   "metadata": {},
   "outputs": [
    {
     "data": {
      "text/plain": [
       "{'name': 'Martín',\n",
       " 'age': 29,\n",
       " 'height': 1.8,\n",
       " 'languages': ['English', 'Spanish']}"
      ]
     },
     "execution_count": 53,
     "metadata": {},
     "output_type": "execute_result"
    }
   ],
   "source": [
    "my_data"
   ]
  },
  {
   "cell_type": "markdown",
   "id": "fb521338-a1a4-4c9d-9cae-283c608a41fe",
   "metadata": {},
   "source": [
    "## Copy a dictionary\n",
    "\n",
    "We can use the .copy method to make a copy of a dictionary."
   ]
  },
  {
   "cell_type": "code",
   "execution_count": 54,
   "id": "09be27db-c05e-4c88-b34e-a3d232f6edc2",
   "metadata": {},
   "outputs": [
    {
     "data": {
      "text/plain": [
       "{'name': 'Martín',\n",
       " 'age': 29,\n",
       " 'height': 1.8,\n",
       " 'languages': ['English', 'Spanish']}"
      ]
     },
     "execution_count": 54,
     "metadata": {},
     "output_type": "execute_result"
    }
   ],
   "source": [
    "new_dict = my_data.copy()\n",
    "new_dict"
   ]
  },
  {
   "cell_type": "markdown",
   "id": "fa140917-e9e4-40c3-b7b9-88983e5f88b9",
   "metadata": {},
   "source": [
    "## Remove elements"
   ]
  },
  {
   "cell_type": "code",
   "execution_count": 55,
   "id": "1594c099-fe82-4921-aed8-6d08fe5e9ce6",
   "metadata": {},
   "outputs": [
    {
     "data": {
      "text/plain": [
       "29"
      ]
     },
     "execution_count": 55,
     "metadata": {},
     "output_type": "execute_result"
    }
   ],
   "source": [
    "my_data.pop('age')"
   ]
  },
  {
   "cell_type": "code",
   "execution_count": 56,
   "id": "786d17b0-ca36-4c8c-a022-74665d962050",
   "metadata": {},
   "outputs": [
    {
     "data": {
      "text/plain": [
       "{'name': 'Martín', 'height': 1.8, 'languages': ['English', 'Spanish']}"
      ]
     },
     "execution_count": 56,
     "metadata": {},
     "output_type": "execute_result"
    }
   ],
   "source": [
    "# the pop returns the value of the key of the pair k,v we removed\n",
    "my_data"
   ]
  },
  {
   "cell_type": "code",
   "execution_count": 57,
   "id": "3c3c61db-ab7a-4935-b91a-083f966a9af2",
   "metadata": {},
   "outputs": [],
   "source": [
    "del my_data['height']"
   ]
  },
  {
   "cell_type": "code",
   "execution_count": 58,
   "id": "1fceab29-0502-4f13-9ca8-f2f9059479fd",
   "metadata": {},
   "outputs": [
    {
     "data": {
      "text/plain": [
       "{'name': 'Martín', 'languages': ['English', 'Spanish']}"
      ]
     },
     "execution_count": 58,
     "metadata": {},
     "output_type": "execute_result"
    }
   ],
   "source": [
    "my_data"
   ]
  },
  {
   "cell_type": "code",
   "execution_count": 59,
   "id": "6e21ac49-81e7-478f-b5a3-559649238aa9",
   "metadata": {},
   "outputs": [],
   "source": [
    "my_data.clear()\n",
    "# it removes all elements of the dictionario"
   ]
  },
  {
   "cell_type": "code",
   "execution_count": 60,
   "id": "05f1ba91-f32c-4823-b04a-432a9299b779",
   "metadata": {},
   "outputs": [
    {
     "data": {
      "text/plain": [
       "{}"
      ]
     },
     "execution_count": 60,
     "metadata": {},
     "output_type": "execute_result"
    }
   ],
   "source": [
    "my_data"
   ]
  },
  {
   "cell_type": "markdown",
   "id": "8dd091d6-6daa-4071-aeb3-d550a4283303",
   "metadata": {},
   "source": [
    "# If statement\n",
    "\n",
    "The if statement is one of the most common statements used in Python. It's a conditional statement used to decide whether a statement (or block of statements) will be executed."
   ]
  },
  {
   "cell_type": "code",
   "execution_count": 64,
   "id": "312e59bb-0a21-4766-af9e-18b387afa5d6",
   "metadata": {},
   "outputs": [
    {
     "name": "stdout",
     "output_type": "stream",
     "text": [
      "I forgive you this time, but slow down.\n"
     ]
    }
   ],
   "source": [
    "velocity = 65\n",
    "your_birthday = True\n",
    "\n",
    "if velocity > 60 and velocity < 80 and not your_birthday:\n",
    "    print(\"Speeding ticket!\")\n",
    "elif velocity > 60 and velocity < 80 and your_birthday:\n",
    "    print(\"I forgive you this time, but slow down.\")\n",
    "elif velocity >= 80:\n",
    "    print(\"Big ticket!\")\n",
    "else:\n",
    "    print(\"normal speed\")"
   ]
  },
  {
   "cell_type": "markdown",
   "id": "907a541a-076d-46d2-90c5-1468d1dd70c4",
   "metadata": {},
   "source": [
    "We can use the if statement with in keyword to verify if an element is in a list."
   ]
  },
  {
   "cell_type": "code",
   "execution_count": 65,
   "id": "8fd6a12f-ceab-49f2-857a-6f09c9cf498d",
   "metadata": {},
   "outputs": [
    {
     "name": "stdout",
     "output_type": "stream",
     "text": [
      "10\n"
     ]
    }
   ],
   "source": [
    "card = 'J'\n",
    "sum = 0\n",
    "\n",
    "if card in ['J','Q','K']:\n",
    "    sum +=10\n",
    "else:\n",
    "    sum = int(card)\n",
    "\n",
    "print(sum)"
   ]
  },
  {
   "cell_type": "markdown",
   "id": "c7d9dcdf-112f-4f0f-94d9-80a81926f5dc",
   "metadata": {},
   "source": [
    "### Operators\n",
    "\n",
    "Comparisson Operators\n",
    "\n",
    "* Equal to: ==\n",
    "* Different: !=\n",
    "* Greater than: >\n",
    "* Less than: <\n",
    "* Greater than or equal to: >=\n",
    "* Less than or equal to: <=\n",
    "\n",
    "### Boolean Operators\n",
    "\n",
    "* and\n",
    "* or\n",
    "* not"
   ]
  },
  {
   "cell_type": "markdown",
   "id": "b73b4b79-0fb9-4689-8dde-67abe5499f96",
   "metadata": {},
   "source": [
    "# For loops\n",
    "\n",
    "The for loop is a frequently used loop in Python. It allows us to loop through an iterable object (e.g., list, dictionaries) and perform the same action to each element."
   ]
  },
  {
   "cell_type": "code",
   "execution_count": 100,
   "id": "5ed5a43e-7e83-487d-91ff-67e9d5748971",
   "metadata": {},
   "outputs": [
    {
     "name": "stdout",
     "output_type": "stream",
     "text": [
      "United States\n",
      "Argentina\n",
      "India\n",
      "Brazil\n"
     ]
    }
   ],
   "source": [
    "for country in countries:\n",
    "    print(country)\n",
    "\n",
    "# La rutina lo que hace es iterar a traves de la lista countries e imprimir cada elemento \n",
    "# que va asumiendo la variable de control country en cada iteracion"
   ]
  },
  {
   "cell_type": "code",
   "execution_count": 67,
   "id": "122013dc-1418-43d5-9b50-97842a48149c",
   "metadata": {},
   "outputs": [
    {
     "name": "stdout",
     "output_type": "stream",
     "text": [
      "Argentina es el mejor pais del mundo.\n"
     ]
    }
   ],
   "source": [
    "for country in countries:\n",
    "    if country == \"Argentina\":\n",
    "        print(country, \"es el mejor pais del mundo.\")"
   ]
  },
  {
   "cell_type": "markdown",
   "id": "89354c68-c276-4cb8-ad3a-36806b8871fe",
   "metadata": {},
   "source": [
    "Loops are a way to repeatedly execute some code. Here's an example:"
   ]
  },
  {
   "cell_type": "code",
   "execution_count": 76,
   "id": "dbbf347c-39c6-45b5-8a1c-de60cfc692a9",
   "metadata": {},
   "outputs": [
    {
     "name": "stdout",
     "output_type": "stream",
     "text": [
      "Mercury Venus Earth Mars Jupiter Saturn Uranus Neptune "
     ]
    }
   ],
   "source": [
    "planets = ['Mercury', 'Venus', 'Earth', 'Mars', 'Jupiter', 'Saturn', 'Uranus', 'Neptune']\n",
    "for planet in planets:\n",
    "    print(planet, end=' ') # print all on same line"
   ]
  },
  {
   "cell_type": "markdown",
   "id": "662019d6-796c-43cf-a07b-b7af3bea5843",
   "metadata": {},
   "source": [
    "The for loop specifies\n",
    "\n",
    "* the variable name to use (in this case, planet)\n",
    "* the set of values to loop over (in this case, planets)\n",
    "\n",
    "You use the word \"in\" to link them together.\n",
    "\n",
    "The object to the right of the \"in\" can be any object that supports iteration. Basically, if it can be thought of as a group of things, you can probably loop over it. In addition to lists, we can iterate over the elements of a tuple:"
   ]
  },
  {
   "cell_type": "code",
   "execution_count": 77,
   "id": "3e55620d-b902-4d62-bc0c-0f273d6084a7",
   "metadata": {},
   "outputs": [
    {
     "data": {
      "text/plain": [
       "360"
      ]
     },
     "execution_count": 77,
     "metadata": {},
     "output_type": "execute_result"
    }
   ],
   "source": [
    "multiplicands = (2, 2, 2, 3, 3, 5)\n",
    "product = 1\n",
    "for mult in multiplicands:\n",
    "    product = product * mult\n",
    "product"
   ]
  },
  {
   "cell_type": "markdown",
   "id": "bd6cfefc-5b45-49fa-bd74-89ff9a950c67",
   "metadata": {},
   "source": [
    "You can even loop through each character in a string:"
   ]
  },
  {
   "cell_type": "code",
   "execution_count": 78,
   "id": "9d1234f2-66ce-4484-a78a-c26f6e61c736",
   "metadata": {},
   "outputs": [
    {
     "name": "stdout",
     "output_type": "stream",
     "text": [
      "HELLO"
     ]
    }
   ],
   "source": [
    "s = 'steganograpHy is the practicE of conceaLing a file, message, image, or video within another fiLe, message, image, Or video.'\n",
    "msg = ''\n",
    "# print all the uppercase letters in s, one at a time\n",
    "for char in s:\n",
    "    if char.isupper():\n",
    "        print(char, end='')"
   ]
  },
  {
   "cell_type": "markdown",
   "id": "1474838f-03aa-425b-b147-d94e67890276",
   "metadata": {},
   "source": [
    "range()\n",
    "\n",
    "range() is a function that returns a sequence of numbers. It turns out to be very useful for writing loops.\n",
    "\n",
    "For example, if we want to repeat some action 5 times:"
   ]
  },
  {
   "cell_type": "code",
   "execution_count": 79,
   "id": "837b24b7-5551-4b4d-af09-8ae67ac2b497",
   "metadata": {},
   "outputs": [
    {
     "name": "stdout",
     "output_type": "stream",
     "text": [
      "Doing important work. i = 0\n",
      "Doing important work. i = 1\n",
      "Doing important work. i = 2\n",
      "Doing important work. i = 3\n",
      "Doing important work. i = 4\n"
     ]
    }
   ],
   "source": [
    "for i in range(5):\n",
    "    print(\"Doing important work. i =\", i)"
   ]
  },
  {
   "cell_type": "markdown",
   "id": "0929b49d-3ae0-449a-8f91-060b9d26d136",
   "metadata": {},
   "source": [
    "## Enumerating in a for loop\n",
    "\n",
    "Sometimes we need to enumerate elements in a loop. We can do this with the for loop."
   ]
  },
  {
   "cell_type": "code",
   "execution_count": 128,
   "id": "f96811f9-88da-4ec9-a70c-17ff223141c5",
   "metadata": {},
   "outputs": [
    {
     "name": "stdout",
     "output_type": "stream",
     "text": [
      "United States es el pais numero 1 en la lista.\n",
      "Argentina es el pais numero 2 en la lista.\n",
      "India es el pais numero 3 en la lista.\n",
      "Brazil es el pais numero 4 en la lista.\n"
     ]
    }
   ],
   "source": [
    "for i, country in enumerate(countries):\n",
    "    print(f\"{country} es el pais numero {i+1} en la lista.\")\n",
    "\n",
    "# enumerate lo que hace es enumerar cada elemento de la lista countries\n",
    "# a medida que iteramos a traves de la lista. Es decir, en la primera iteración\n",
    "# la primera vuelta, al primer elemento le pone el indice 0, al segundo elemento le pone el indice 1\n",
    "# es decir, a cada elemento de la lista le asocia un numero que se corresponde con la posición\n",
    "# de ese elemento en la lista..\n",
    "\n",
    "# P.ej, en este caso a estados unidos le asigna 0, a argentina le asigna 1, a india le asigna 2 y asi sucesivamente\n",
    "# y podemos usar ese indice, que esta contenido en la variable i, para hacer cosas en el programa.\n",
    "\n",
    "# Enumerate va a retornar dos elementos, el primero sera el numero de iteración/de bucle y el segundo va a ser el \n",
    "# elemento de la lista propiamente dicho\n"
   ]
  },
  {
   "cell_type": "markdown",
   "id": "12d41453-00b0-42a6-aa6d-dcd5f11e39f8",
   "metadata": {},
   "source": [
    "## Looping through dictionary elements\n",
    "\n",
    "We can obtain the key and item separately while looping through a dictionary. We only need to use the .items() method."
   ]
  },
  {
   "cell_type": "code",
   "execution_count": 68,
   "id": "a1d8de6c-6e35-498d-b2ab-051db099e5a4",
   "metadata": {},
   "outputs": [],
   "source": [
    "my_data = {'name': 'Martín','age': 29,'height': 1.8,\n",
    "             'languages': ['English', 'Spanish']}"
   ]
  },
  {
   "cell_type": "code",
   "execution_count": 69,
   "id": "46851e39-60fe-4255-8081-cd97f36eb05d",
   "metadata": {},
   "outputs": [
    {
     "name": "stdout",
     "output_type": "stream",
     "text": [
      "name: Martín\n",
      "age: 29\n",
      "height: 1.8\n",
      "languages: ['English', 'Spanish']\n"
     ]
    }
   ],
   "source": [
    "for key, value in my_data.items():\n",
    "    print(f\"{key}: {value}\")"
   ]
  },
  {
   "cell_type": "markdown",
   "id": "cfdbf6c8-f850-49eb-bd27-6b189a0241f4",
   "metadata": {},
   "source": [
    "# while loops\n",
    "\n",
    "The other type of loop in Python is a while loop, which iterates until some condition is met:"
   ]
  },
  {
   "cell_type": "code",
   "execution_count": 80,
   "id": "bf6322b5-7c52-429e-bd95-af0c69dece72",
   "metadata": {},
   "outputs": [
    {
     "name": "stdout",
     "output_type": "stream",
     "text": [
      "0 1 2 3 4 5 6 7 8 9 "
     ]
    }
   ],
   "source": [
    "i = 0\n",
    "while i < 10:\n",
    "    print(i, end=' ')\n",
    "    i += 1 # increase the value of i by 1"
   ]
  },
  {
   "cell_type": "markdown",
   "id": "98ed7804-85be-42ee-bffa-355b9c1207c1",
   "metadata": {},
   "source": [
    "The argument of the while loop is evaluated as a boolean statement, and the loop is executed until the statement evaluates to False."
   ]
  },
  {
   "cell_type": "markdown",
   "id": "2bec7ca4-cea3-439d-950b-aa192dad2c49",
   "metadata": {},
   "source": [
    "## List comprehensions\n",
    "\n",
    "List comprehensions are one of Python's most beloved and unique features. The easiest way to understand them is probably to just look at a few examples:"
   ]
  },
  {
   "cell_type": "code",
   "execution_count": 81,
   "id": "e3751524-7b8e-4957-b5ce-b4350717fdd8",
   "metadata": {},
   "outputs": [
    {
     "data": {
      "text/plain": [
       "[0, 1, 4, 9, 16, 25, 36, 49, 64, 81]"
      ]
     },
     "execution_count": 81,
     "metadata": {},
     "output_type": "execute_result"
    }
   ],
   "source": [
    "squares = [n**2 for n in range(10)]\n",
    "squares"
   ]
  },
  {
   "cell_type": "markdown",
   "id": "d903b658-dfba-4039-aebf-ed4b415bbcda",
   "metadata": {},
   "source": [
    "Here's how we would do the same thing without a list comprehension:"
   ]
  },
  {
   "cell_type": "code",
   "execution_count": 82,
   "id": "dc0a53c5-ac88-45ae-8c52-bef7edeb3da9",
   "metadata": {},
   "outputs": [
    {
     "data": {
      "text/plain": [
       "[0, 1, 4, 9, 16, 25, 36, 49, 64, 81]"
      ]
     },
     "execution_count": 82,
     "metadata": {},
     "output_type": "execute_result"
    }
   ],
   "source": [
    "squares = []\n",
    "for n in range(10):\n",
    "    squares.append(n**2)\n",
    "squares"
   ]
  },
  {
   "cell_type": "markdown",
   "id": "5548078b-aeb0-4a88-a0ef-dc75b3db12ad",
   "metadata": {},
   "source": [
    "We can also add an if condition:"
   ]
  },
  {
   "cell_type": "code",
   "execution_count": 83,
   "id": "26389986-a152-4929-bc97-197fc7e291c4",
   "metadata": {},
   "outputs": [
    {
     "data": {
      "text/plain": [
       "['Venus', 'Earth', 'Mars']"
      ]
     },
     "execution_count": 83,
     "metadata": {},
     "output_type": "execute_result"
    }
   ],
   "source": [
    "short_planets = [planet for planet in planets if len(planet) < 6]\n",
    "short_planets"
   ]
  },
  {
   "cell_type": "markdown",
   "id": "29c4d8e5-fcae-4b73-8518-7419570b9e66",
   "metadata": {},
   "source": [
    "It's like a like a \"WHERE\" clause in SQL.\n",
    "\n",
    "Here's an example of filtering with an if condition and applying some transformation to the loop variable:"
   ]
  },
  {
   "cell_type": "code",
   "execution_count": 84,
   "id": "8f7ae078-9b02-4def-a580-ddec3c3b5f27",
   "metadata": {},
   "outputs": [
    {
     "data": {
      "text/plain": [
       "['VENUS!', 'EARTH!', 'MARS!']"
      ]
     },
     "execution_count": 84,
     "metadata": {},
     "output_type": "execute_result"
    }
   ],
   "source": [
    "# str.upper() returns an all-caps version of a string\n",
    "loud_short_planets = [planet.upper() + '!' for planet in planets if len(planet) < 6]\n",
    "loud_short_planets"
   ]
  },
  {
   "cell_type": "markdown",
   "id": "f3cb66f3-d6be-44a6-84d5-b86894dfa04c",
   "metadata": {},
   "source": [
    "# Functions\n",
    "\n",
    "A function is a block of code which only runs when it is called. You can pass data as parameters into a function\\\n",
    "Here is the syntax of the function:"
   ]
  },
  {
   "cell_type": "markdown",
   "id": "8015773f-5383-4525-af81-162a1cfe2c85",
   "metadata": {},
   "source": [
    "def function(<params>):\n",
    "    <code>\n",
    "    return <data>"
   ]
  },
  {
   "cell_type": "markdown",
   "id": "5ced280d-2ae5-4c08-9f4c-39492908ee38",
   "metadata": {},
   "source": [
    "## Built-In Functions\n",
    "\n",
    "Python has lots of built-in functions that can help us perform a specific task. Let's have a look at the most common of them.\n",
    "\n",
    "* range()\n",
    "* len()\n",
    "* max()\n",
    "* min()\n",
    "* round()\n",
    "* type()\n",
    "\n",
    "## How to Create a Function\n",
    "\n",
    "We can also create our own functions. Let's create a function that sums two values a and b"
   ]
  },
  {
   "cell_type": "code",
   "execution_count": 105,
   "id": "41c29899-3e63-4cc5-9aa3-727a252fc602",
   "metadata": {},
   "outputs": [],
   "source": [
    "def sum_values(a, b):\n",
    "    x = a + b\n",
    "    return x"
   ]
  },
  {
   "cell_type": "code",
   "execution_count": 108,
   "id": "ed39172f-dece-4aa9-abd9-fa008fe48356",
   "metadata": {},
   "outputs": [
    {
     "data": {
      "text/plain": [
       "35"
      ]
     },
     "execution_count": 108,
     "metadata": {},
     "output_type": "execute_result"
    }
   ],
   "source": [
    "sum_values(27,8)"
   ]
  },
  {
   "cell_type": "code",
   "execution_count": 70,
   "id": "22bad2f6-82f3-45c0-a8c8-72492f085555",
   "metadata": {},
   "outputs": [],
   "source": [
    "countries = [\"United States\", \"Argentina\", \"India\", \"Brazil\"]"
   ]
  },
  {
   "cell_type": "code",
   "execution_count": 71,
   "id": "ecfb6524-be42-4fc3-b702-20be04f6000a",
   "metadata": {},
   "outputs": [
    {
     "data": {
      "text/plain": [
       "4"
      ]
     },
     "execution_count": 71,
     "metadata": {},
     "output_type": "execute_result"
    }
   ],
   "source": [
    "len(countries)"
   ]
  },
  {
   "cell_type": "code",
   "execution_count": 72,
   "id": "a97fc3f0-5e02-4052-a42e-829c899d2003",
   "metadata": {},
   "outputs": [
    {
     "data": {
      "text/plain": [
       "99"
      ]
     },
     "execution_count": 72,
     "metadata": {},
     "output_type": "execute_result"
    }
   ],
   "source": [
    "max([10, 63, 81, 1, 99])"
   ]
  },
  {
   "cell_type": "code",
   "execution_count": 73,
   "id": "2fdb4389-ac2e-4b88-8347-28bc5995217b",
   "metadata": {},
   "outputs": [
    {
     "data": {
      "text/plain": [
       "1"
      ]
     },
     "execution_count": 73,
     "metadata": {},
     "output_type": "execute_result"
    }
   ],
   "source": [
    "min([10, 63, 81, 1, 99])"
   ]
  },
  {
   "cell_type": "code",
   "execution_count": 74,
   "id": "f0262717-44b3-4572-91b7-5bcfdc7871e0",
   "metadata": {},
   "outputs": [
    {
     "data": {
      "text/plain": [
       "list"
      ]
     },
     "execution_count": 74,
     "metadata": {},
     "output_type": "execute_result"
    }
   ],
   "source": [
    "type(countries)"
   ]
  },
  {
   "cell_type": "code",
   "execution_count": 75,
   "id": "c71e824f-bfeb-4f7d-b02b-42ec82874cd8",
   "metadata": {},
   "outputs": [
    {
     "name": "stdout",
     "output_type": "stream",
     "text": [
      "28 30 32 34 36 38 40 42 "
     ]
    }
   ],
   "source": [
    "for i in range(28, 44, 2):\n",
    "    print(i, end=' ')"
   ]
  },
  {
   "cell_type": "markdown",
   "id": "a6e3440b-1faa-48ec-9ceb-ec69dd060985",
   "metadata": {},
   "source": [
    "# Modules\n",
    "\n",
    "A module is a file consisting of Python code. A module can contain functions, classes, variables and also runnable code.\n",
    "\n",
    "We can get access to a Python module with the \"import\" statement."
   ]
  },
  {
   "cell_type": "markdown",
   "id": "83afd993-a39c-4379-9130-b2b66c60c7fe",
   "metadata": {},
   "source": [
    "## OS Module\n",
    "\n",
    "The OS module comes with Python. It provides functions for interacting with the operating system."
   ]
  },
  {
   "cell_type": "code",
   "execution_count": 122,
   "id": "3a6eb612-0abe-4517-b5fb-761b46236ca0",
   "metadata": {},
   "outputs": [],
   "source": [
    "import os"
   ]
  },
  {
   "cell_type": "code",
   "execution_count": 123,
   "id": "30127352-0a36-4a31-b9e1-0302c2bf8d3e",
   "metadata": {},
   "outputs": [
    {
     "data": {
      "text/plain": [
       "'C:\\\\Users\\\\Martin\\\\Desktop\\\\ML-Portfolio-backup\\\\section-2-data-science-and-ml-tools\\\\sample_tools_1'"
      ]
     },
     "execution_count": 123,
     "metadata": {},
     "output_type": "execute_result"
    }
   ],
   "source": [
    "# get current working directory\n",
    "os.getcwd()"
   ]
  },
  {
   "cell_type": "code",
   "execution_count": 125,
   "id": "3b43d56e-9b5c-4723-8f62-94ef9e46dfff",
   "metadata": {},
   "outputs": [
    {
     "data": {
      "text/plain": [
       "['.ipynb_checkpoints', 'env', 'Python_Essentials.ipynb']"
      ]
     },
     "execution_count": 125,
     "metadata": {},
     "output_type": "execute_result"
    }
   ],
   "source": [
    "os.listdir()\n",
    "# it lists all the elements in the folder where this Jupyter notebook file is located."
   ]
  },
  {
   "cell_type": "code",
   "execution_count": 126,
   "id": "bfe45ce9-289f-486d-8f06-ecd6640e35b4",
   "metadata": {},
   "outputs": [],
   "source": [
    "os.makedirs(\"New Folder\")\n",
    "# it helps me to create new folders.. Inside of the () I have to write the name of the folder I want to create."
   ]
  },
  {
   "cell_type": "code",
   "execution_count": 127,
   "id": "69b4acb1-5090-44cc-881f-c572bc7800cd",
   "metadata": {},
   "outputs": [
    {
     "data": {
      "text/plain": [
       "['.ipynb_checkpoints', 'env', 'New Folder', 'Python_Essentials.ipynb']"
      ]
     },
     "execution_count": 127,
     "metadata": {},
     "output_type": "execute_result"
    }
   ],
   "source": [
    "os.listdir()\n",
    "# I can see there is a new one element"
   ]
  }
 ],
 "metadata": {
  "kernelspec": {
   "display_name": "Python 3 (ipykernel)",
   "language": "python",
   "name": "python3"
  },
  "language_info": {
   "codemirror_mode": {
    "name": "ipython",
    "version": 3
   },
   "file_extension": ".py",
   "mimetype": "text/x-python",
   "name": "python",
   "nbconvert_exporter": "python",
   "pygments_lexer": "ipython3",
   "version": "3.13.5"
  }
 },
 "nbformat": 4,
 "nbformat_minor": 5
}
